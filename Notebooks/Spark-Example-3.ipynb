{
 "cells": [
  {
   "cell_type": "markdown",
   "metadata": {},
   "source": [
    "# Spark RDD Transformations"
   ]
  },
  {
   "cell_type": "markdown",
   "metadata": {},
   "source": [
    "# Try not to use the following transformations\n",
    "\n",
    "It will cause a huge schuffel of all of the data items with the same key to one of cluster nodes and cause some cluster problems when data is large. "
   ]
  },
  {
   "cell_type": "markdown",
   "metadata": {},
   "source": [
    "**groupByKey([numPartitions])**\n",
    "\n",
    "when called on a dataset of **(K, V)** pairs, returns a dataset of **(K, Seq[V])** pairs"
   ]
  },
  {
   "cell_type": "code",
   "execution_count": 3,
   "metadata": {},
   "outputs": [
    {
     "data": {
      "text/plain": [
       "[('the', <pyspark.resultiterable.ResultIterable at 0x11a322278>),\n",
       " ('for', <pyspark.resultiterable.ResultIterable at 0x11a322cc0>)]"
      ]
     },
     "execution_count": 3,
     "metadata": {},
     "output_type": "execute_result"
    }
   ],
   "source": [
    "rdd2 = sc.parallelize([('the', 1), ('the', 1), ('the', 2), ('for', 1), ('for', 2),('for', 1)])\n",
    "\n",
    "rdd2.groupByKey().collect()\n"
   ]
  },
  {
   "cell_type": "code",
   "execution_count": 4,
   "metadata": {},
   "outputs": [
    {
     "data": {
      "text/plain": [
       "[4, 4]"
      ]
     },
     "execution_count": 4,
     "metadata": {},
     "output_type": "execute_result"
    }
   ],
   "source": [
    "rdd2.groupByKey().map(lambda x: sum(x[1])).collect()\n"
   ]
  },
  {
   "cell_type": "markdown",
   "metadata": {},
   "source": [
    "**sortByKey([ascending], [numPartitions])**\n",
    "\n",
    "When called on a dataset of **(K, V)** pairs where K implements Ordered, returns a dataset of **(K, V)** pairs sorted by keys in ascending or descending order, as specified in the boolean ascending argument"
   ]
  },
  {
   "cell_type": "code",
   "execution_count": 5,
   "metadata": {},
   "outputs": [],
   "source": [
    "# We create here an example text data. \n",
    "a = [('What Will It Take for BU Commuters to Leave Their Cars for the MBTA? University\\\n",
    "      boosts T pass subsidies to cover half the cost, raises parking fees, all part of \\\n",
    "      broader strategy to build a greener BU')]\n",
    "rdd = sc.parallelize(a) \n",
    "counts = rdd.flatMap(lambda x: x.split(' ')).map(lambda x: (x, 1))\n",
    "\n"
   ]
  },
  {
   "cell_type": "code",
   "execution_count": null,
   "metadata": {},
   "outputs": [],
   "source": []
  }
 ],
 "metadata": {
  "kernelspec": {
   "display_name": "Python 3",
   "language": "python",
   "name": "python3"
  },
  "language_info": {
   "codemirror_mode": {
    "name": "ipython",
    "version": 3
   },
   "file_extension": ".py",
   "mimetype": "text/x-python",
   "name": "python",
   "nbconvert_exporter": "python",
   "pygments_lexer": "ipython3",
   "version": "3.7.4"
  }
 },
 "nbformat": 4,
 "nbformat_minor": 2
}
