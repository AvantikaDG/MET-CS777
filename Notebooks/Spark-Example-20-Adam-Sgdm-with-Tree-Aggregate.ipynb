{
 "cells": [
  {
   "cell_type": "markdown",
   "metadata": {},
   "source": [
    "### Adam, Rmsprop, Sgdm with Tree Aggregate Implementation in PySpark\n",
    "### Author: \n",
    "* Yi Rong (yirong@bu.edu)\n",
    "* Xiaoyang Wang (gnayoaix@bu.edu)\n",
    "\n",
    "### Date: 05/13/2021"
   ]
  },
  {
   "cell_type": "code",
   "execution_count": 1,
   "metadata": {},
   "outputs": [],
   "source": [
    "from __future__ import print_function\n",
    "import sys\n",
    "\n",
    "from operator import add\n",
    "# from string import lowercase\n",
    "from re import sub, search\n",
    "import numpy as np\n",
    "from numpy.random.mtrand import dirichlet, multinomial\n",
    "from string import punctuation\n",
    "import random\n",
    "import time\n",
    "from scipy.stats import norm\n",
    "import pandas as pd\n",
    "from sklearn.datasets import make_blobs\n",
    "from matplotlib import pyplot\n",
    "from pandas import DataFrame\n",
    "import matplotlib.cm as cm\n",
    "from random import sample\n",
    "\n",
    "from pyspark.sql import functions as f, udf\n",
    "from pyspark import SparkContext\n",
    "from pyspark import SparkConf\n",
    "from pyspark.context import SparkContext\n",
    "from pyspark.sql import SparkSession, SQLContext\n",
    "from pyspark.mllib.stat import Statistics\n",
    "from numpy.linalg import multi_dot\n",
    "from scipy.stats import multivariate_normal\n",
    "from pyspark.ml.tuning import ParamGridBuilder, TrainValidationSplit"
   ]
  },
  {
   "cell_type": "code",
   "execution_count": 2,
   "metadata": {},
   "outputs": [],
   "source": [
    "sc = SparkContext(appName=\"optimizer\")"
   ]
  },
  {
   "cell_type": "markdown",
   "metadata": {},
   "source": [
    "### Generate Data with make_blobs"
   ]
  },
  {
   "cell_type": "code",
   "execution_count": 3,
   "metadata": {},
   "outputs": [],
   "source": [
    "n_feature = 2 # the number of features\n",
    "n_components = 2 # the number of clusters"
   ]
  },
  {
   "cell_type": "code",
   "execution_count": 4,
   "metadata": {},
   "outputs": [],
   "source": [
    "# generate isotropic Gaussian blobs (data from mixture Gaussian distributions)\n",
    "X, y = make_blobs(n_samples=1000, # the number of total samples\n",
    "                  centers=n_components, # the number of clusters\n",
    "                  n_features=n_feature, # the number of features\n",
    "                  random_state=2) # 2"
   ]
  },
  {
   "cell_type": "code",
   "execution_count": 5,
   "metadata": {},
   "outputs": [
    {
     "data": {
      "image/png": "[encoded data removed]",
      "text/plain": [
       "<Figure size 432x288 with 1 Axes>"
      ]
     },
     "metadata": {
      "needs_background": "light"
     },
     "output_type": "display_data"
    }
   ],
   "source": [
    "# scatter plot, data points annotated by different colors\n",
    "df = DataFrame(dict(x=X[:,0], y=X[:,1], label=y))\n",
    "cluster_name = set(y)\n",
    "colors = dict(zip(cluster_name, cm.rainbow(np.linspace(0, 1, len(cluster_name)))))\n",
    "fig, ax = pyplot.subplots()\n",
    "grouped = df.groupby('label')\n",
    "for key, group in grouped:\n",
    "    group.plot(ax=ax, kind='scatter', x='x', y='y', label=key, color=colors[key].reshape(1,-1))\n",
    "pyplot.title('Original 2D Data from {} Clusters'.format(n_components))\n",
    "pyplot.show()"
   ]
  },
  {
   "cell_type": "markdown",
   "metadata": {},
   "source": [
    "### Train a Logistic Regression Model"
   ]
  },
  {
   "cell_type": "code",
   "execution_count": 6,
   "metadata": {},
   "outputs": [
    {
     "data": {
      "text/plain": [
       "PythonRDD[3] at RDD at PythonRDD.scala:53"
      ]
     },
     "execution_count": 6,
     "metadata": {},
     "output_type": "execute_result"
    }
   ],
   "source": [
    "# read X, y into rdd\n",
    "rdd_X = sc.parallelize(X)\n",
    "rdd_y = sc.parallelize(y)\n",
    "\n",
    "# split data into train and test\n",
    "traindata, testdata = rdd_y.zip(rdd_X).randomSplit([0.9, 0.1], seed=12345)\n",
    "traindata.cache()"
   ]
  },
  {
   "cell_type": "code",
   "execution_count": 8,
   "metadata": {},
   "outputs": [],
   "source": [
    "train_size = traindata.count()"
   ]
  },
  {
   "cell_type": "code",
   "execution_count": 9,
   "metadata": {},
   "outputs": [],
   "source": [
    "def LogisticRegression(traindata=traindata,\n",
    "                       max_iteration = 100,\n",
    "                       learningRate = 0.01,\n",
    "                       regularization = 0.01,\n",
    "                       mini_batch_size = 256,\n",
    "                       tolerance = 0.00001,\n",
    "                       optimizer = 'None'  #optimizer: 'SGDM' / 'Adam' / 'None'\n",
    "                      ):\n",
    "\n",
    "    # initialization\n",
    "    prev_cost = 0\n",
    "    L_cost = []\n",
    "    prev_validation = 0\n",
    "    train_size = traindata.count()\n",
    "\n",
    "    parameter_size = len(traindata.take(1)[0][1]) + 1\n",
    "    np.random.seed(0)\n",
    "    parameter_vector = np.random.normal(0, 0.1, parameter_size)\n",
    "\n",
    "    momentum = np.zeros(parameter_size)\n",
    "    history = np.array(parameter_size)\n",
    "\n",
    "    for i in range(max_iteration):\n",
    "\n",
    "        bc_weights = sc.broadcast(parameter_vector[:-1])\n",
    "        bc1_weights = sc.broadcast(parameter_vector[-1])\n",
    "\n",
    "        min_batch = traindata.sample(False, mini_batch_size / train_size, 1 + i)\n",
    "\n",
    "        res = min_batch.treeAggregate((np.zeros(parameter_size), 0, 0),\\\n",
    "              lambda x, y:(x[0]\\\n",
    "                          + (np.append(y[1], 1)) * (-y[0] + (np.exp(np.dot(y[1], bc_weights.value) + bc1_weights.value)\\\n",
    "                          /(1 + np.exp(np.dot(y[1], bc_weights.value) + bc1_weights.value)))),\\\n",
    "                          x[1] \\\n",
    "                          + y[0] * (-(np.dot(y[1], bc_weights.value) + bc1_weights.value)) \\\n",
    "                          + np.log(1 + np.exp(np.dot(y[1],bc_weights.value)+ bc1_weights.value)),\\\n",
    "                          x[2] + 1),\n",
    "              lambda x, y:(x[0] + y[0], x[1] + y[1], x[2] + y[2]))\n",
    "\n",
    "        cost =  res[1] + regularization * (np.square(parameter_vector).sum())\n",
    "\n",
    "        # calculate gradients\n",
    "        gradient_derivative = (1.0 / res[2]) * res[0] + 2 * regularization * parameter_vector\n",
    "\n",
    "        if optimizer == 'None':\n",
    "            parameter_vector = parameter_vector - learningRate * gradient_derivative\n",
    "\n",
    "        if optimizer =='SGDM':\n",
    "            beta = 0.9\n",
    "            momentum = beta * momentum + (1 - beta) * gradient_derivative\n",
    "            parameter_vector = parameter_vector - learningRate * momentum\n",
    "            \n",
    "        if optimizer == 'Adam':\n",
    "            beta1 = 0.9\n",
    "            beta2 = 0.999\n",
    "            epsilon = 10e-8\n",
    "            momentum = beta1 * momentum + (1 - beta1) * gradient_derivative\n",
    "            history = beta2 * history + (1-beta2) * (gradient_derivative**2)\n",
    "            momentum = momentum / (1 - beta1**(i + 1))\n",
    "            history = history / (1 - beta2**(i + 1))\n",
    "            parameter_vector = parameter_vector - learningRate * momentum / ((history)**0.5 + epsilon)\n",
    "\n",
    "\n",
    "        # bold driver\n",
    "#         if cost > prev_cost:\n",
    "#             learningRate = learningRate * 0.5\n",
    "\n",
    "#         if cost < prev_cost:\n",
    "#             learningRate = learningRate * 1.05\n",
    "        print(\"Iteration No.\", i, \" Cost=\", cost)\n",
    "\n",
    "        # Stop if the cost is not descreasing\n",
    "        if abs(cost - prev_cost) < tolerance:\n",
    "            print(\"cost - prev_cost: \" + str(cost - prev_cost))\n",
    "            break\n",
    "        prev_cost = cost\n",
    "        L_cost.append(cost)\n",
    "        \n",
    "    return parameter_vector, L_cost"
   ]
  },
  {
   "cell_type": "markdown",
   "metadata": {},
   "source": [
    "### Model Evaluation"
   ]
  },
  {
   "cell_type": "markdown",
   "metadata": {},
   "source": [
    "#### None Optimizer"
   ]
  },
  {
   "cell_type": "code",
   "execution_count": 11,
   "metadata": {
    "collapsed": true
   },
   "outputs": [
    {
     "name": "stdout",
     "output_type": "stream",
     "text": [
      "Iteration No. 0  Cost= 255.43562290927585\n",
      "Iteration No. 1  Cost= 245.64625877851006\n",
      "Iteration No. 2  Cost= 235.41768156532729\n",
      "Iteration No. 3  Cost= 229.749901733642\n",
      "Iteration No. 4  Cost= 221.22630118295004\n",
      "Iteration No. 5  Cost= 220.0043015289319\n",
      "Iteration No. 6  Cost= 213.46429090224768\n",
      "Iteration No. 7  Cost= 236.5340963615425\n",
      "Iteration No. 8  Cost= 243.58436125708093\n",
      "Iteration No. 9  Cost= 235.52052317043402\n",
      "Iteration No. 10  Cost= 229.49292029879658\n",
      "Iteration No. 11  Cost= 227.68312913047072\n",
      "Iteration No. 12  Cost= 218.91141811913502\n",
      "Iteration No. 13  Cost= 216.65745318840504\n",
      "Iteration No. 14  Cost= 226.8856561123925\n",
      "Iteration No. 15  Cost= 210.34644751536453\n",
      "Iteration No. 16  Cost= 207.00308057272198\n",
      "Iteration No. 17  Cost= 204.32598731615732\n",
      "Iteration No. 18  Cost= 199.88018137816567\n",
      "Iteration No. 19  Cost= 206.27346208536605\n",
      "Iteration No. 20  Cost= 202.37692856393357\n",
      "Iteration No. 21  Cost= 204.98209482460115\n",
      "Iteration No. 22  Cost= 207.78719373562856\n",
      "Iteration No. 23  Cost= 191.37925076505857\n",
      "Iteration No. 24  Cost= 198.2819758401846\n",
      "Iteration No. 25  Cost= 200.25833817061206\n",
      "Iteration No. 26  Cost= 195.94641043713253\n",
      "Iteration No. 27  Cost= 198.72819436186415\n",
      "Iteration No. 28  Cost= 194.89557251094521\n",
      "Iteration No. 29  Cost= 197.31948924889957\n",
      "Iteration No. 30  Cost= 193.54310310458575\n",
      "Iteration No. 31  Cost= 193.927254049958\n",
      "Iteration No. 32  Cost= 191.09343609053866\n",
      "Iteration No. 33  Cost= 195.81743570320873\n",
      "Iteration No. 34  Cost= 194.81001044169224\n",
      "Iteration No. 35  Cost= 194.30134610614618\n",
      "Iteration No. 36  Cost= 190.7221784720825\n",
      "Iteration No. 37  Cost= 190.22388447612175\n",
      "Iteration No. 38  Cost= 190.84750230439684\n",
      "Iteration No. 39  Cost= 186.4135831760028\n",
      "Iteration No. 40  Cost= 179.07321664286184\n",
      "Iteration No. 41  Cost= 183.33909426639815\n",
      "Iteration No. 42  Cost= 181.72470917945063\n",
      "Iteration No. 43  Cost= 182.75648796278278\n",
      "Iteration No. 44  Cost= 170.11309781942197\n",
      "Iteration No. 45  Cost= 177.94291404098436\n",
      "Iteration No. 46  Cost= 185.81893595021984\n",
      "Iteration No. 47  Cost= 184.37244668815686\n",
      "Iteration No. 48  Cost= 184.0502646126945\n",
      "Iteration No. 49  Cost= 186.78975472015563\n",
      "Iteration No. 50  Cost= 199.60880389536283\n",
      "Iteration No. 51  Cost= 189.61698437810682\n",
      "Iteration No. 52  Cost= 176.7061103506587\n",
      "Iteration No. 53  Cost= 183.63918751766047\n",
      "Iteration No. 54  Cost= 186.86913372448927\n",
      "Iteration No. 55  Cost= 182.75814252510145\n",
      "Iteration No. 56  Cost= 188.04447029438361\n",
      "Iteration No. 57  Cost= 185.1768920506538\n",
      "Iteration No. 58  Cost= 181.33689048766743\n",
      "Iteration No. 59  Cost= 180.2477656058111\n",
      "Iteration No. 60  Cost= 190.0559569317304\n",
      "Iteration No. 61  Cost= 182.05002252757353\n",
      "Iteration No. 62  Cost= 177.7406351208714\n",
      "Iteration No. 63  Cost= 174.7421336701591\n",
      "Iteration No. 64  Cost= 172.31136657233463\n",
      "Iteration No. 65  Cost= 177.8877325675021\n",
      "Iteration No. 66  Cost= 179.5803433840442\n",
      "Iteration No. 67  Cost= 173.13139995363755\n",
      "Iteration No. 68  Cost= 163.3151711271687\n",
      "Iteration No. 69  Cost= 173.1569362035345\n",
      "Iteration No. 70  Cost= 167.14958926520572\n",
      "Iteration No. 71  Cost= 181.7287145207582\n",
      "Iteration No. 72  Cost= 179.42923599987122\n",
      "Iteration No. 73  Cost= 181.11556776402395\n",
      "Iteration No. 74  Cost= 177.2328863423497\n",
      "Iteration No. 75  Cost= 170.5771408256546\n",
      "Iteration No. 76  Cost= 174.97217724319376\n",
      "Iteration No. 77  Cost= 171.8254731111683\n",
      "Iteration No. 78  Cost= 181.23059927753846\n",
      "Iteration No. 79  Cost= 167.93982581003243\n",
      "Iteration No. 80  Cost= 169.9111931846855\n",
      "Iteration No. 81  Cost= 166.84925119370365\n",
      "Iteration No. 82  Cost= 161.66288619270867\n",
      "Iteration No. 83  Cost= 167.50332075687828\n",
      "Iteration No. 84  Cost= 164.61573089885462\n",
      "Iteration No. 85  Cost= 164.74234815730685\n",
      "Iteration No. 86  Cost= 166.01047999463464\n",
      "Iteration No. 87  Cost= 156.8204081639804\n",
      "Iteration No. 88  Cost= 160.80764352773917\n",
      "Iteration No. 89  Cost= 158.27234497707641\n",
      "Iteration No. 90  Cost= 161.21633240719018\n",
      "Iteration No. 91  Cost= 157.13734119600272\n",
      "Iteration No. 92  Cost= 163.34564662997337\n",
      "Iteration No. 93  Cost= 159.1192532802866\n",
      "Iteration No. 94  Cost= 163.71959103804812\n",
      "Iteration No. 95  Cost= 160.26139025953597\n",
      "Iteration No. 96  Cost= 166.72512887621716\n",
      "Iteration No. 97  Cost= 163.13041136301115\n",
      "Iteration No. 98  Cost= 161.30847989174873\n",
      "Iteration No. 99  Cost= 158.09574918170628\n",
      "confusion matrix: (0, 48, 32, 7)\n",
      "f1 score: 0.14893617021276595\n"
     ]
    },
    {
     "data": {
      "image/png": "[encoded data removed]",
      "text/plain": [
       "<Figure size 432x288 with 1 Axes>"
      ]
     },
     "metadata": {
      "needs_background": "light"
     },
     "output_type": "display_data"
    }
   ],
   "source": [
    "parameter_vector_no, L_cost_no = LogisticRegression(traindata=traindata,\n",
    "                       max_iteration = 100,\n",
    "                       learningRate = 0.01,\n",
    "                       regularization = 0.01,\n",
    "                       mini_batch_size = 512,\n",
    "                       tolerance = 10e-8,\n",
    "                       optimizer = 'None'  #optimizer: 'SGDM' / 'Adam' / 'None'\n",
    "                      )"
   ]
  },
  {
   "cell_type": "code",
   "execution_count": 15,
   "metadata": {},
   "outputs": [
    {
     "name": "stdout",
     "output_type": "stream",
     "text": [
      "confusion matrix: (48, 0, 7, 32)\n",
      "f1 score: 0.9014084507042254\n"
     ]
    },
    {
     "data": {
      "image/png": "[encoded data removed]",
      "text/plain": [
       "<Figure size 432x288 with 1 Axes>"
      ]
     },
     "metadata": {
      "needs_background": "light"
     },
     "output_type": "display_data"
    }
   ],
   "source": [
    "# check parameter_vector * x[1] is positive (label 1) or negative (label 0), x[0] is the actual label\n",
    "rdd2 = testdata.map(lambda x: (np.dot(np.append(x[1], [1]), parameter_vector_no), x[0])) \\\n",
    "    .map(lambda x: (np.where(x[0] >= 0, 1, 0), x[1])) \\\n",
    "\n",
    "# get confusion matrix result for each row: (TN, FP, FN, TP), 1 for true, 0 for false\n",
    "rdd3 = rdd2.map(lambda x: (\n",
    "np.where(x[0] == 0 and x[1] == 0, 1, 0), np.where(x[0] == 1 and x[1] == 0, 1, 0),  # confusion matrix\n",
    "np.where(x[0] == 0 and x[1] == 1, 1, 0), np.where(x[0] == 1 and x[1] == 1, 1, 0)))\n",
    "\n",
    "# calculate f1 score\n",
    "cmat = rdd3.reduce(lambda x, y: (x[0] + y[0], x[1] + y[1], x[2] + y[2], x[3] + y[3]))\n",
    "print(\"confusion matrix: \" + str(cmat))\n",
    "TN, FP, FN, TP = cmat[0], cmat[1], cmat[2], cmat[3]\n",
    "\n",
    "if TP + FP != 0 and TP + FN != 0:\n",
    "    precision = TP / (TP + FP)\n",
    "    recall = TP / (TP + FN)\n",
    "\n",
    "    f1score = 2 * precision * recall / (precision + recall)\n",
    "else:\n",
    "    f1score = 0\n",
    "\n",
    "print(\"f1 score: \" + str(f1score))\n",
    "\n",
    "# prediction on test set\n",
    "y_pred = rdd2.map(lambda x: int(x[0])).collect()\n",
    "X_test = np.array(testdata.map(lambda x: x[1]).collect())\n",
    "\n",
    "# scatter plot, data points annotated by different colors\n",
    "df = DataFrame(dict(x=X_test[:,0], y=X_test[:,1], label=y_pred))\n",
    "cluster_name = set(y)\n",
    "colors = dict(zip(cluster_name, cm.rainbow(np.linspace(0,1,len(cluster_name)))))\n",
    "fig, ax = pyplot.subplots()\n",
    "grouped = df.groupby('label')\n",
    "for key, group in grouped:\n",
    "    group.plot(ax=ax, kind='scatter', x='x', y='y', label=key, color=colors[key].reshape(1,-1))\n",
    "pyplot.title('Model Prediction from Testset without Optimizer'.format(n_components))\n",
    "pyplot.show()"
   ]
  },
  {
   "cell_type": "markdown",
   "metadata": {},
   "source": [
    "#### Adam"
   ]
  },
  {
   "cell_type": "code",
   "execution_count": 12,
   "metadata": {
    "collapsed": true
   },
   "outputs": [
    {
     "name": "stdout",
     "output_type": "stream",
     "text": [
      "Iteration No. 0  Cost= 255.43562290927585\n",
      "Iteration No. 1  Cost= 256.17719340201705\n",
      "Iteration No. 2  Cost= 254.62965275833912\n",
      "Iteration No. 3  Cost= 255.7158947172702\n",
      "Iteration No. 4  Cost= 254.3944618940526\n",
      "Iteration No. 5  Cost= 256.8408512506826\n",
      "Iteration No. 6  Cost= 255.4675017023254\n",
      "Iteration No. 7  Cost= 286.45780395694817\n",
      "Iteration No. 8  Cost= 291.0898791275201\n",
      "Iteration No. 9  Cost= 288.39529010517924\n",
      "Iteration No. 10  Cost= 287.6909220166993\n",
      "Iteration No. 11  Cost= 289.6360023361162\n",
      "Iteration No. 12  Cost= 285.1240913345115\n",
      "Iteration No. 13  Cost= 283.5627108434889\n",
      "Iteration No. 14  Cost= 290.22076865967915\n",
      "Iteration No. 15  Cost= 269.73497409079846\n",
      "Iteration No. 16  Cost= 269.98589397871524\n",
      "Iteration No. 17  Cost= 268.9973673005048\n",
      "Iteration No. 18  Cost= 268.9358643862886\n",
      "Iteration No. 19  Cost= 272.7530778447247\n",
      "Iteration No. 20  Cost= 272.4904907158639\n",
      "Iteration No. 21  Cost= 270.832294530386\n",
      "Iteration No. 22  Cost= 274.2038274675369\n",
      "Iteration No. 23  Cost= 268.89180961577944\n",
      "Iteration No. 24  Cost= 272.66823318663035\n",
      "Iteration No. 25  Cost= 273.30614297897495\n",
      "Iteration No. 26  Cost= 270.2577681977762\n",
      "Iteration No. 27  Cost= 271.295490097881\n",
      "Iteration No. 28  Cost= 270.2664897814505\n",
      "Iteration No. 29  Cost= 271.10825997853607\n",
      "Iteration No. 30  Cost= 267.1817121709525\n",
      "Iteration No. 31  Cost= 274.09225397366225\n",
      "Iteration No. 32  Cost= 269.98743303329235\n",
      "Iteration No. 33  Cost= 273.820140488171\n",
      "Iteration No. 34  Cost= 274.142650204575\n",
      "Iteration No. 35  Cost= 274.02629423851585\n",
      "Iteration No. 36  Cost= 272.3494412094572\n",
      "Iteration No. 37  Cost= 273.67465949131395\n",
      "Iteration No. 38  Cost= 274.02403094473993\n",
      "Iteration No. 39  Cost= 265.13402298165147\n",
      "Iteration No. 40  Cost= 261.54380528884445\n",
      "Iteration No. 41  Cost= 262.4103499899207\n",
      "Iteration No. 42  Cost= 259.11757223878453\n",
      "Iteration No. 43  Cost= 261.96475987522575\n",
      "Iteration No. 44  Cost= 256.4340120649487\n",
      "Iteration No. 45  Cost= 260.26593149591054\n",
      "Iteration No. 46  Cost= 261.85985414553363\n",
      "Iteration No. 47  Cost= 276.84581736544715\n",
      "Iteration No. 48  Cost= 276.6118732474437\n",
      "Iteration No. 49  Cost= 276.63036220100605\n",
      "Iteration No. 50  Cost= 280.05522156021783\n",
      "Iteration No. 51  Cost= 278.6473326050207\n",
      "Iteration No. 52  Cost= 275.123366770582\n",
      "Iteration No. 53  Cost= 278.5663128361704\n",
      "Iteration No. 54  Cost= 278.9001457919715\n",
      "Iteration No. 55  Cost= 278.52479869839965\n",
      "Iteration No. 56  Cost= 278.52767652616035\n",
      "Iteration No. 57  Cost= 278.3609024100513\n",
      "Iteration No. 58  Cost= 277.3560305595228\n",
      "Iteration No. 59  Cost= 275.81712096252585\n",
      "Iteration No. 60  Cost= 279.74197321521257\n",
      "Iteration No. 61  Cost= 276.07783142873615\n",
      "Iteration No. 62  Cost= 275.2726411392254\n",
      "Iteration No. 63  Cost= 267.8854398590864\n",
      "Iteration No. 64  Cost= 268.87746479083404\n",
      "Iteration No. 65  Cost= 270.28143176587776\n",
      "Iteration No. 66  Cost= 271.636436801452\n",
      "Iteration No. 67  Cost= 267.9352870202518\n",
      "Iteration No. 68  Cost= 266.9284081835262\n",
      "Iteration No. 69  Cost= 268.857402006201\n",
      "Iteration No. 70  Cost= 266.9882221179876\n",
      "Iteration No. 71  Cost= 282.4931458632861\n",
      "Iteration No. 72  Cost= 282.66812040708504\n",
      "Iteration No. 73  Cost= 282.9688565600675\n",
      "Iteration No. 74  Cost= 282.09538563449877\n",
      "Iteration No. 75  Cost= 280.76393549451035\n",
      "Iteration No. 76  Cost= 281.906989857475\n",
      "Iteration No. 77  Cost= 280.3862875743326\n",
      "Iteration No. 78  Cost= 284.11662890834504\n",
      "Iteration No. 79  Cost= 267.3380066994418\n",
      "Iteration No. 80  Cost= 269.9696578451401\n",
      "Iteration No. 81  Cost= 269.67506870131865\n",
      "Iteration No. 82  Cost= 267.3454455114824\n",
      "Iteration No. 83  Cost= 269.3746855458119\n",
      "Iteration No. 84  Cost= 267.4596887602501\n",
      "Iteration No. 85  Cost= 268.5694990718545\n",
      "Iteration No. 86  Cost= 267.63202567147283\n",
      "Iteration No. 87  Cost= 263.9824075611505\n",
      "Iteration No. 88  Cost= 265.2230270609604\n",
      "Iteration No. 89  Cost= 265.2363134349338\n",
      "Iteration No. 90  Cost= 266.66738578913277\n",
      "Iteration No. 91  Cost= 266.13253600431614\n",
      "Iteration No. 92  Cost= 265.64157821202394\n",
      "Iteration No. 93  Cost= 265.40013368444687\n",
      "Iteration No. 94  Cost= 266.2813108193274\n",
      "Iteration No. 95  Cost= 271.0557881248545\n",
      "Iteration No. 96  Cost= 274.60001111010365\n",
      "Iteration No. 97  Cost= 275.60296336848165\n",
      "Iteration No. 98  Cost= 273.1156207192734\n",
      "Iteration No. 99  Cost= 269.56405779662515\n",
      "confusion matrix: (0, 48, 36, 3)\n",
      "f1 score: 0.06666666666666667\n"
     ]
    },
    {
     "data": {
      "image/png": "[encoded data removed]",
      "text/plain": [
       "<Figure size 432x288 with 1 Axes>"
      ]
     },
     "metadata": {
      "needs_background": "light"
     },
     "output_type": "display_data"
    }
   ],
   "source": [
    "parameter_vector_adam, L_cost_adam = LogisticRegression(traindata=traindata,\n",
    "                       max_iteration = 100,\n",
    "                       learningRate = 0.01,\n",
    "                       regularization = 0.01,\n",
    "                       mini_batch_size = 512,\n",
    "                       tolerance = 10e-8,\n",
    "                       optimizer = 'Adam'  #optimizer: 'SGDM' / 'Adam' / 'None'\n",
    "                      )\n",
    "\n"
   ]
  },
  {
   "cell_type": "code",
   "execution_count": 16,
   "metadata": {},
   "outputs": [
    {
     "name": "stdout",
     "output_type": "stream",
     "text": [
      "confusion matrix: (48, 0, 3, 36)\n",
      "f1 score: 0.9600000000000001\n"
     ]
    },
    {
     "data": {
      "image/png": "[encoded data removed]",
      "text/plain": [
       "<Figure size 432x288 with 1 Axes>"
      ]
     },
     "metadata": {
      "needs_background": "light"
     },
     "output_type": "display_data"
    }
   ],
   "source": [
    "# check parameter_vector * x[1] is positive (label 1) or negative (label 0), x[0] is the actual label\n",
    "rdd2 = testdata.map(lambda x: (np.dot(np.append(x[1], [1]), parameter_vector_adam), x[0])) \\\n",
    "    .map(lambda x: (np.where(x[0] >= 0, 1, 0), x[1])) \\\n",
    "\n",
    "# get confusion matrix result for each row: (TN, FP, FN, TP), 1 for true, 0 for false\n",
    "rdd3 = rdd2.map(lambda x: (\n",
    "np.where(x[0] == 0 and x[1] == 0, 1, 0), np.where(x[0] == 1 and x[1] == 0, 1, 0),  # confusion matrix\n",
    "np.where(x[0] == 0 and x[1] == 1, 1, 0), np.where(x[0] == 1 and x[1] == 1, 1, 0)))\n",
    "\n",
    "# calculate f1 score\n",
    "cmat = rdd3.reduce(lambda x, y: (x[0] + y[0], x[1] + y[1], x[2] + y[2], x[3] + y[3]))\n",
    "print(\"confusion matrix: \" + str(cmat))\n",
    "TN, FP, FN, TP = cmat[0], cmat[1], cmat[2], cmat[3]\n",
    "\n",
    "if TP + FP != 0 and TP + FN != 0:\n",
    "    precision = TP / (TP + FP)\n",
    "    recall = TP / (TP + FN)\n",
    "\n",
    "    f1score = 2 * precision * recall / (precision + recall)\n",
    "else:\n",
    "    f1score = 0\n",
    "\n",
    "print(\"f1 score: \" + str(f1score))\n",
    "\n",
    "# prediction on test set\n",
    "y_pred = rdd2.map(lambda x: int(x[0])).collect()\n",
    "X_test = np.array(testdata.map(lambda x: x[1]).collect())\n",
    "\n",
    "# scatter plot, data points annotated by different colors\n",
    "df = DataFrame(dict(x=X_test[:,0], y=X_test[:,1], label=y_pred))\n",
    "cluster_name = set(y)\n",
    "colors = dict(zip(cluster_name, cm.rainbow(np.linspace(0,1,len(cluster_name)))))\n",
    "fig, ax = pyplot.subplots()\n",
    "grouped = df.groupby('label')\n",
    "for key, group in grouped:\n",
    "    group.plot(ax=ax, kind='scatter', x='x', y='y', label=key, color=colors[key].reshape(1,-1))\n",
    "pyplot.title('Model Prediction from Testset Adam'.format(n_components))\n",
    "pyplot.show()"
   ]
  },
  {
   "cell_type": "markdown",
   "metadata": {},
   "source": [
    "#### SGDM"
   ]
  },
  {
   "cell_type": "code",
   "execution_count": 13,
   "metadata": {
    "collapsed": true
   },
   "outputs": [
    {
     "name": "stdout",
     "output_type": "stream",
     "text": [
      "Iteration No. 0  Cost= 255.43562290927585\n",
      "Iteration No. 1  Cost= 255.25590459251006\n",
      "Iteration No. 2  Cost= 251.63347363900192\n",
      "Iteration No. 3  Cost= 249.88881191746526\n",
      "Iteration No. 4  Cost= 244.66438477544855\n",
      "Iteration No. 5  Cost= 243.51102422770933\n",
      "Iteration No. 6  Cost= 237.440015014566\n",
      "Iteration No. 7  Cost= 261.8437516134431\n",
      "Iteration No. 8  Cost= 264.5843089845882\n",
      "Iteration No. 9  Cost= 255.93280764886555\n",
      "Iteration No. 10  Cost= 249.0402004368724\n",
      "Iteration No. 11  Cost= 245.650915728452\n",
      "Iteration No. 12  Cost= 235.56412947290838\n",
      "Iteration No. 13  Cost= 231.40229904068548\n",
      "Iteration No. 14  Cost= 238.8018755939175\n",
      "Iteration No. 15  Cost= 220.11920766075494\n",
      "Iteration No. 16  Cost= 215.83932081202957\n",
      "Iteration No. 17  Cost= 212.05050705474076\n",
      "Iteration No. 18  Cost= 206.96492986561174\n",
      "Iteration No. 19  Cost= 212.51116892010862\n",
      "Iteration No. 20  Cost= 207.8129597337258\n",
      "Iteration No. 21  Cost= 210.12489106912727\n",
      "Iteration No. 22  Cost= 212.38543843877656\n",
      "Iteration No. 23  Cost= 195.3300298533099\n",
      "Iteration No. 24  Cost= 202.13156247832714\n",
      "Iteration No. 25  Cost= 204.04331672413147\n",
      "Iteration No. 26  Cost= 199.78679695299124\n",
      "Iteration No. 27  Cost= 202.5007373833244\n",
      "Iteration No. 28  Cost= 198.3859746641336\n",
      "Iteration No. 29  Cost= 200.92704113616412\n",
      "Iteration No. 30  Cost= 197.41267849953914\n",
      "Iteration No. 31  Cost= 197.06810853225966\n",
      "Iteration No. 32  Cost= 194.46798842411755\n",
      "Iteration No. 33  Cost= 199.3610711730238\n",
      "Iteration No. 34  Cost= 198.2382344563945\n",
      "Iteration No. 35  Cost= 197.7475024129018\n",
      "Iteration No. 36  Cost= 193.9905839190883\n",
      "Iteration No. 37  Cost= 193.36739244057568\n",
      "Iteration No. 38  Cost= 194.06855812416052\n",
      "Iteration No. 39  Cost= 189.81883786244566\n",
      "Iteration No. 40  Cost= 182.18249369340023\n",
      "Iteration No. 41  Cost= 186.67688640043656\n",
      "Iteration No. 42  Cost= 185.62506972297288\n",
      "Iteration No. 43  Cost= 186.330166732253\n",
      "Iteration No. 44  Cost= 172.83978977706425\n",
      "Iteration No. 45  Cost= 181.3582163113168\n",
      "Iteration No. 46  Cost= 189.7507464158712\n",
      "Iteration No. 47  Cost= 187.42107733900693\n",
      "Iteration No. 48  Cost= 187.2249143491815\n",
      "Iteration No. 49  Cost= 190.34445297395663\n",
      "Iteration No. 50  Cost= 204.42576288149948\n",
      "Iteration No. 51  Cost= 193.3780487899533\n",
      "Iteration No. 52  Cost= 179.49940233099957\n",
      "Iteration No. 53  Cost= 186.53061428032407\n",
      "Iteration No. 54  Cost= 190.31267017973747\n",
      "Iteration No. 55  Cost= 186.06188753165227\n",
      "Iteration No. 56  Cost= 191.73886308170617\n",
      "Iteration No. 57  Cost= 188.62703045280134\n",
      "Iteration No. 58  Cost= 184.71982365077037\n",
      "Iteration No. 59  Cost= 183.59751944492842\n",
      "Iteration No. 60  Cost= 193.79161643748103\n",
      "Iteration No. 61  Cost= 185.35167272806495\n",
      "Iteration No. 62  Cost= 181.07620170485686\n",
      "Iteration No. 63  Cost= 177.91555637214236\n",
      "Iteration No. 64  Cost= 175.03475859617572\n",
      "Iteration No. 65  Cost= 181.15373872368187\n",
      "Iteration No. 66  Cost= 182.70509571110253\n",
      "Iteration No. 67  Cost= 175.94464399072422\n",
      "Iteration No. 68  Cost= 165.46980236878807\n",
      "Iteration No. 69  Cost= 175.82518441835407\n",
      "Iteration No. 70  Cost= 169.5683403056171\n",
      "Iteration No. 71  Cost= 184.62357713434147\n",
      "Iteration No. 72  Cost= 182.2120644364427\n",
      "Iteration No. 73  Cost= 184.17011975778325\n",
      "Iteration No. 74  Cost= 179.77530303606108\n",
      "Iteration No. 75  Cost= 172.7481461661938\n",
      "Iteration No. 76  Cost= 177.57878006744843\n",
      "Iteration No. 77  Cost= 174.34467166780342\n",
      "Iteration No. 78  Cost= 183.81499634916625\n",
      "Iteration No. 79  Cost= 170.46306440495053\n",
      "Iteration No. 80  Cost= 172.4155803255362\n",
      "Iteration No. 81  Cost= 169.00019865299137\n",
      "Iteration No. 82  Cost= 163.66459856871805\n",
      "Iteration No. 83  Cost= 169.79270068271907\n",
      "Iteration No. 84  Cost= 166.8643486438194\n",
      "Iteration No. 85  Cost= 166.8025672522382\n",
      "Iteration No. 86  Cost= 168.32414729135235\n",
      "Iteration No. 87  Cost= 158.85074362732854\n",
      "Iteration No. 88  Cost= 163.00278600032107\n",
      "Iteration No. 89  Cost= 160.35411325062776\n",
      "Iteration No. 90  Cost= 163.2987557868099\n",
      "Iteration No. 91  Cost= 159.09681012855\n",
      "Iteration No. 92  Cost= 165.4546447926189\n",
      "Iteration No. 93  Cost= 161.07770826101276\n",
      "Iteration No. 94  Cost= 165.74606359232035\n",
      "Iteration No. 95  Cost= 162.2492226962998\n",
      "Iteration No. 96  Cost= 168.85902902583882\n",
      "Iteration No. 97  Cost= 165.04426814726594\n",
      "Iteration No. 98  Cost= 163.1951360380281\n",
      "Iteration No. 99  Cost= 159.9812128359723\n",
      "confusion matrix: (0, 48, 32, 7)\n",
      "f1 score: 0.14893617021276595\n"
     ]
    },
    {
     "data": {
      "image/png": "[encoded data removed]",
      "text/plain": [
       "<Figure size 432x288 with 1 Axes>"
      ]
     },
     "metadata": {
      "needs_background": "light"
     },
     "output_type": "display_data"
    }
   ],
   "source": [
    "parameter_vector_sgdm, L_cost_sgdm = LogisticRegression(traindata=traindata,\n",
    "                       max_iteration = 100,\n",
    "                       learningRate = 0.01,\n",
    "                       regularization = 0.01,\n",
    "                       mini_batch_size = 512,\n",
    "                       tolerance = 10e-8,\n",
    "                       optimizer = 'SGDM'  #optimizer: 'SGDM' / 'Adam' / 'None'\n",
    "                      )"
   ]
  },
  {
   "cell_type": "code",
   "execution_count": 17,
   "metadata": {},
   "outputs": [
    {
     "name": "stdout",
     "output_type": "stream",
     "text": [
      "confusion matrix: (48, 0, 7, 32)\n",
      "f1 score: 0.9014084507042254\n"
     ]
    },
    {
     "data": {
      "image/png": "[encoded data removed]",
      "text/plain": [
       "<Figure size 432x288 with 1 Axes>"
      ]
     },
     "metadata": {
      "needs_background": "light"
     },
     "output_type": "display_data"
    }
   ],
   "source": [
    "# check parameter_vector * x[1] is positive (label 1) or negative (label 0), x[0] is the actual label\n",
    "rdd2 = testdata.map(lambda x: (np.dot(np.append(x[1], [1]), parameter_vector_sgdm), x[0])) \\\n",
    "    .map(lambda x: (np.where(x[0] >= 0, 1, 0), x[1])) \\\n",
    "\n",
    "# get confusion matrix result for each row: (TN, FP, FN, TP), 1 for true, 0 for false\n",
    "rdd3 = rdd2.map(lambda x: (\n",
    "np.where(x[0] == 0 and x[1] == 0, 1, 0), np.where(x[0] == 1 and x[1] == 0, 1, 0),  # confusion matrix\n",
    "np.where(x[0] == 0 and x[1] == 1, 1, 0), np.where(x[0] == 1 and x[1] == 1, 1, 0)))\n",
    "\n",
    "# calculate f1 score\n",
    "cmat = rdd3.reduce(lambda x, y: (x[0] + y[0], x[1] + y[1], x[2] + y[2], x[3] + y[3]))\n",
    "print(\"confusion matrix: \" + str(cmat))\n",
    "TN, FP, FN, TP = cmat[0], cmat[1], cmat[2], cmat[3]\n",
    "\n",
    "if TP + FP != 0 and TP + FN != 0:\n",
    "    precision = TP / (TP + FP)\n",
    "    recall = TP / (TP + FN)\n",
    "\n",
    "    f1score = 2 * precision * recall / (precision + recall)\n",
    "else:\n",
    "    f1score = 0\n",
    "\n",
    "print(\"f1 score: \" + str(f1score))\n",
    "\n",
    "# prediction on test set\n",
    "y_pred = rdd2.map(lambda x: int(x[0])).collect()\n",
    "X_test = np.array(testdata.map(lambda x: x[1]).collect())\n",
    "\n",
    "# scatter plot, data points annotated by different colors\n",
    "df = DataFrame(dict(x=X_test[:,0], y=X_test[:,1], label=y_pred))\n",
    "cluster_name = set(y)\n",
    "colors = dict(zip(cluster_name, cm.rainbow(np.linspace(0,1,len(cluster_name)))))\n",
    "fig, ax = pyplot.subplots()\n",
    "grouped = df.groupby('label')\n",
    "for key, group in grouped:\n",
    "    group.plot(ax=ax, kind='scatter', x='x', y='y', label=key, color=colors[key].reshape(1,-1))\n",
    "pyplot.title('Model Prediction from Testset SGDM'.format(n_components))\n",
    "pyplot.show()"
   ]
  },
  {
   "cell_type": "markdown",
   "metadata": {},
   "source": [
    "### Optimizers Comparison"
   ]
  },
  {
   "cell_type": "code",
   "execution_count": 20,
   "metadata": {},
   "outputs": [
    {
     "data": {
      "image/png": "[encoded data removed]",
      "text/plain": [
       "<Figure size 432x288 with 1 Axes>"
      ]
     },
     "metadata": {
      "needs_background": "light"
     },
     "output_type": "display_data"
    }
   ],
   "source": [
    "# Data\n",
    "df = pd.DataFrame({'iteration': range(1, 101), \n",
    "                 'cost_sgdm': L_cost_sgdm, \n",
    "                 'cost_adam': L_cost_adam, \n",
    "                 'cost_no': L_cost_no })\n",
    " \n",
    "# multiple line plots\n",
    "pyplot.plot( 'iteration', 'cost_sgdm', data=df, marker='', color='skyblue', linewidth=2)\n",
    "pyplot.plot( 'iteration', 'cost_adam', data=df, marker='', color='red', linewidth=2)\n",
    "pyplot.plot( 'iteration', 'cost_no', data=df, marker='', color='green', linewidth=2)\n",
    "# show legend\n",
    "pyplot.legend()\n",
    "pyplot.title('Cost Comparison among SGDM, Adam, no optimizer')\n",
    "# show graph\n",
    "pyplot.show()"
   ]
  },
  {
   "cell_type": "markdown",
   "metadata": {},
   "source": [
    "### F1 Score Comparison\n",
    "\n",
    "* SGDM: 0.901\n",
    "* Adam: 0.960\n",
    "* No: 0.901"
   ]
  },
  {
   "cell_type": "code",
   "execution_count": null,
   "metadata": {},
   "outputs": [],
   "source": []
  }
 ],
 "metadata": {
  "kernelspec": {
   "display_name": "Python 3",
   "language": "python",
   "name": "python3"
  },
  "language_info": {
   "codemirror_mode": {
    "name": "ipython",
    "version": 3
   },
   "file_extension": ".py",
   "mimetype": "text/x-python",
   "name": "python",
   "nbconvert_exporter": "python",
   "pygments_lexer": "ipython3",
   "version": "3.7.2"
  }
 },
 "nbformat": 4,
 "nbformat_minor": 4
}
