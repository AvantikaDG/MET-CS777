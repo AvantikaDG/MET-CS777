{
 "cells": [
  {
   "cell_type": "markdown",
   "metadata": {},
   "source": [
    "### Adam,  Sgdm with Tree Aggregate Implementation in PySpark\n",
    "### Author: \n",
    "* Yi Rong (yirong@bu.edu)\n",
    "* Xiaoyang Wang (gnayoaix@bu.edu)\n",
    "\n",
    "### Date: 05/13/2021"
   ]
  },
  {
   "cell_type": "code",
   "execution_count": 1,
   "metadata": {},
   "outputs": [],
   "source": [
    "from __future__ import print_function\n",
    "import sys\n",
    "\n",
    "from operator import add\n",
    "# from string import lowercase\n",
    "from re import sub, search\n",
    "import numpy as np\n",
    "from numpy.random.mtrand import dirichlet, multinomial\n",
    "from string import punctuation\n",
    "import random\n",
    "import time\n",
    "from scipy.stats import norm\n",
    "import pandas as pd\n",
    "from sklearn.datasets import make_blobs\n",
    "from matplotlib import pyplot\n",
    "from pandas import DataFrame\n",
    "import matplotlib.cm as cm\n",
    "from random import sample\n",
    "\n",
    "from pyspark.sql import functions as f, udf\n",
    "from pyspark import SparkContext\n",
    "from pyspark import SparkConf\n",
    "from pyspark.context import SparkContext\n",
    "from pyspark.sql import SparkSession, SQLContext\n",
    "from pyspark.mllib.stat import Statistics\n",
    "from numpy.linalg import multi_dot\n",
    "from scipy.stats import multivariate_normal\n",
    "from pyspark.ml.tuning import ParamGridBuilder, TrainValidationSplit"
   ]
  },
  {
   "cell_type": "code",
   "execution_count": 2,
   "metadata": {},
   "outputs": [],
   "source": [
    "# sc = SparkContext(appName=\"optimizer\")"
   ]
  },
  {
   "cell_type": "markdown",
   "metadata": {},
   "source": [
    "### Generate Data with make_blobs"
   ]
  },
  {
   "cell_type": "code",
   "execution_count": 3,
   "metadata": {},
   "outputs": [],
   "source": [
    "n_feature = 2 # the number of features\n",
    "n_components = 2 # the number of clusters\n",
    "\n",
    "max_iter = 300 # max iterations \n",
    "n=10000 # the number of total samples"
   ]
  },
  {
   "cell_type": "code",
   "execution_count": 4,
   "metadata": {},
   "outputs": [],
   "source": [
    "# generate isotropic Gaussian blobs (data from mixture Gaussian distributions)\n",
    "X, y = make_blobs(n_samples=n, # the number of total samples\n",
    "                  centers=n_components, # the number of clusters\n",
    "                  n_features=n_feature, # the number of features\n",
    "                  random_state=14) # 2"
   ]
  },
  {
   "cell_type": "code",
   "execution_count": 5,
   "metadata": {},
   "outputs": [
    {
     "data": {
      "image/png": "[encoded data removed]",
      "text/plain": [
       "<Figure size 432x288 with 1 Axes>"
      ]
     },
     "metadata": {
      "needs_background": "light"
     },
     "output_type": "display_data"
    }
   ],
   "source": [
    "# scatter plot, data points annotated by different colors\n",
    "df = DataFrame(dict(x=X[:,0], y=X[:,1], label=y))\n",
    "cluster_name = set(y)\n",
    "colors = dict(zip(cluster_name, cm.rainbow(np.linspace(0, 1, len(cluster_name)))))\n",
    "fig, ax = pyplot.subplots()\n",
    "grouped = df.groupby('label')\n",
    "for key, group in grouped:\n",
    "    group.plot(ax=ax, kind='scatter', x='x', y='y', label=key, color=colors[key].reshape(1,-1))\n",
    "pyplot.title('Original 2D Data from {} Clusters'.format(n_components))\n",
    "pyplot.show()"
   ]
  },
  {
   "cell_type": "markdown",
   "metadata": {},
   "source": [
    "### Train a Logistic Regression Model"
   ]
  },
  {
   "cell_type": "code",
   "execution_count": 6,
   "metadata": {},
   "outputs": [
    {
     "data": {
      "text/plain": [
       "PythonRDD[3] at RDD at PythonRDD.scala:53"
      ]
     },
     "execution_count": 6,
     "metadata": {},
     "output_type": "execute_result"
    }
   ],
   "source": [
    "# read X, y into rdd\n",
    "rdd_X = sc.parallelize(X)\n",
    "rdd_y = sc.parallelize(y)\n",
    "\n",
    "# split data into train and test\n",
    "traindata, testdata = rdd_y.zip(rdd_X).randomSplit([0.7, 0.3], seed=12345)\n",
    "traindata.cache()"
   ]
  },
  {
   "cell_type": "code",
   "execution_count": 7,
   "metadata": {},
   "outputs": [],
   "source": [
    "train_size = traindata.count()"
   ]
  },
  {
   "cell_type": "markdown",
   "metadata": {},
   "source": [
    "# TODO\n",
    "add math for Adam and others \n",
    "\n",
    "# Also others \n",
    "\n"
   ]
  },
  {
   "cell_type": "code",
   "execution_count": 8,
   "metadata": {},
   "outputs": [],
   "source": [
    "def LogisticRegression(traindata=traindata,\n",
    "                       max_iteration = max_iter,\n",
    "                       learningRate = 0.01,\n",
    "                       regularization = 0.01,\n",
    "                       mini_batch_size = 256,\n",
    "                       tolerance = 0.00001,\n",
    "                       optimizer = 'None'  #optimizer: 'SGDM' / 'Adam' / 'None'\n",
    "                      ):\n",
    "\n",
    "    # initialization\n",
    "    prev_cost = 0\n",
    "    L_cost = []\n",
    "    prev_validation = 0\n",
    "    train_size = traindata.count()\n",
    "\n",
    "    parameter_size = len(traindata.take(1)[0][1]) + 1\n",
    "    np.random.seed(0)\n",
    "    parameter_vector = np.random.normal(0, 0.1, parameter_size)\n",
    "\n",
    "    momentum = np.zeros(parameter_size)\n",
    "    history = np.array(parameter_size)\n",
    "\n",
    "    for i in range(max_iteration):\n",
    "\n",
    "        bc_weights = sc.broadcast(parameter_vector[:-1])\n",
    "        bc1_weights = sc.broadcast(parameter_vector[-1])\n",
    "\n",
    "        min_batch = traindata.sample(False, mini_batch_size / train_size, 1 + i)\n",
    "\n",
    "        res = min_batch.treeAggregate((np.zeros(parameter_size), 0, 0),\\\n",
    "              lambda x, y:(x[0]\\\n",
    "                          + (np.append(y[1], 1)) * (-y[0] + (np.exp(np.dot(y[1], bc_weights.value) + bc1_weights.value)\\\n",
    "                          /(1 + np.exp(np.dot(y[1], bc_weights.value) + bc1_weights.value)))),\\\n",
    "                          x[1] \\\n",
    "                          + y[0] * (-(np.dot(y[1], bc_weights.value) + bc1_weights.value)) \\\n",
    "                          + np.log(1 + np.exp(np.dot(y[1],bc_weights.value)+ bc1_weights.value)),\\\n",
    "                          x[2] + 1),\n",
    "              lambda x, y:(x[0] + y[0], x[1] + y[1], x[2] + y[2]))\n",
    "\n",
    "        cost =  res[1] + regularization * (np.square(parameter_vector).sum())\n",
    "\n",
    "        # calculate gradients\n",
    "        gradient_derivative = (1.0 / res[2]) * res[0] + 2 * regularization * parameter_vector\n",
    "\n",
    "        if optimizer == 'None':\n",
    "            parameter_vector = parameter_vector - learningRate * gradient_derivative\n",
    "\n",
    "        if optimizer =='SGDM':\n",
    "            beta = 0.9\n",
    "            momentum = beta * momentum + (1 - beta) * gradient_derivative\n",
    "            parameter_vector = parameter_vector - learningRate * momentum\n",
    "            \n",
    "        if optimizer == 'Adam':\n",
    "            beta1 = 0.9\n",
    "            beta2 = 0.999\n",
    "            epsilon = 10e-8\n",
    "            momentum = beta1 * momentum + (1 - beta1) * gradient_derivative\n",
    "            history = beta2 * history + (1-beta2) * (gradient_derivative**2)\n",
    "            momentum = momentum / (1 - beta1**(i + 1))\n",
    "            history = history / (1 - beta2**(i + 1))\n",
    "            parameter_vector = parameter_vector - learningRate * momentum / ((history)**0.5 + epsilon)\n",
    "\n",
    "\n",
    "        if i%20 == 0 :\n",
    "            print(\"Iteration No.\", i, \" Cost=\", cost)\n",
    "\n",
    "        # Stop if the cost is not descreasing\n",
    "        if abs(cost - prev_cost) < tolerance:\n",
    "            print(\"cost - prev_cost: \" + str(cost - prev_cost))\n",
    "            break\n",
    "        prev_cost = cost\n",
    "        L_cost.append(cost)\n",
    "        \n",
    "    return parameter_vector, L_cost"
   ]
  },
  {
   "cell_type": "markdown",
   "metadata": {},
   "source": [
    "### Model Evaluation"
   ]
  },
  {
   "cell_type": "markdown",
   "metadata": {},
   "source": [
    "#### None Optimizer"
   ]
  },
  {
   "cell_type": "code",
   "execution_count": 9,
   "metadata": {},
   "outputs": [
    {
     "name": "stdout",
     "output_type": "stream",
     "text": [
      "Iteration No. 0  Cost= 323.6520273649225\n",
      "Iteration No. 20  Cost= 76.32814921691427\n",
      "Iteration No. 40  Cost= 46.046709236892376\n",
      "Iteration No. 60  Cost= 29.468810370776904\n",
      "Iteration No. 80  Cost= 20.94042609408585\n",
      "Iteration No. 100  Cost= 19.791120843433582\n",
      "Iteration No. 120  Cost= 16.150674109177253\n",
      "Iteration No. 140  Cost= 14.93829784635836\n",
      "Iteration No. 160  Cost= 12.997378319115146\n",
      "Iteration No. 180  Cost= 11.938434921277997\n",
      "Iteration No. 200  Cost= 10.323929214842227\n",
      "Iteration No. 220  Cost= 9.214256123916094\n",
      "Iteration No. 240  Cost= 9.553043413269112\n",
      "Iteration No. 260  Cost= 8.840224790056595\n",
      "Iteration No. 280  Cost= 7.259039279416286\n"
     ]
    }
   ],
   "source": [
    "parameter_vector_no, L_cost_no = LogisticRegression(traindata=traindata,\n",
    "                       max_iteration = max_iter,\n",
    "                       learningRate = 0.01,\n",
    "                       regularization = 0.01,\n",
    "                       mini_batch_size = 512,\n",
    "                       tolerance = 10e-6,\n",
    "                       optimizer = 'None'  #optimizer: 'SGDM' / 'Adam' / 'None'\n",
    "                      )"
   ]
  },
  {
   "cell_type": "code",
   "execution_count": 10,
   "metadata": {},
   "outputs": [
    {
     "name": "stdout",
     "output_type": "stream",
     "text": [
      "confusion matrix: (1527, 0, 0, 1462)\n",
      "f1 score: 1.0\n"
     ]
    },
    {
     "data": {
      "image/png": "[encoded data removed]",
      "text/plain": [
       "<Figure size 432x288 with 1 Axes>"
      ]
     },
     "metadata": {
      "needs_background": "light"
     },
     "output_type": "display_data"
    }
   ],
   "source": [
    "# check parameter_vector * x[1] is positive (label 1) or negative (label 0), x[0] is the actual label\n",
    "rdd2 = testdata.map(lambda x: (np.dot(np.append(x[1], [1]), parameter_vector_no), x[0])) \\\n",
    "    .map(lambda x: (np.where(x[0] >= 0, 1, 0), x[1])) \\\n",
    "\n",
    "# get confusion matrix result for each row: (TN, FP, FN, TP), 1 for true, 0 for false\n",
    "rdd3 = rdd2.map(lambda x: (\n",
    "np.where(x[0] == 0 and x[1] == 0, 1, 0), np.where(x[0] == 1 and x[1] == 0, 1, 0),  # confusion matrix\n",
    "np.where(x[0] == 0 and x[1] == 1, 1, 0), np.where(x[0] == 1 and x[1] == 1, 1, 0)))\n",
    "\n",
    "# calculate f1 score\n",
    "cmat = rdd3.reduce(lambda x, y: (x[0] + y[0], x[1] + y[1], x[2] + y[2], x[3] + y[3]))\n",
    "print(\"confusion matrix: \" + str(cmat))\n",
    "TN, FP, FN, TP = cmat[0], cmat[1], cmat[2], cmat[3]\n",
    "\n",
    "if TP + FP != 0 and TP + FN != 0:\n",
    "    precision = TP / (TP + FP)\n",
    "    recall = TP / (TP + FN)\n",
    "\n",
    "    f1score = 2 * precision * recall / (precision + recall)\n",
    "else:\n",
    "    f1score = 0\n",
    "\n",
    "print(\"f1 score: \" + str(f1score))\n",
    "\n",
    "# prediction on test set\n",
    "y_pred = rdd2.map(lambda x: int(x[0])).collect()\n",
    "X_test = np.array(testdata.map(lambda x: x[1]).collect())\n",
    "\n",
    "# scatter plot, data points annotated by different colors\n",
    "df = DataFrame(dict(x=X_test[:,0], y=X_test[:,1], label=y_pred))\n",
    "cluster_name = set(y)\n",
    "colors = dict(zip(cluster_name, cm.rainbow(np.linspace(0,1,len(cluster_name)))))\n",
    "fig, ax = pyplot.subplots()\n",
    "grouped = df.groupby('label')\n",
    "for key, group in grouped:\n",
    "    group.plot(ax=ax, kind='scatter', x='x', y='y', label=key, color=colors[key].reshape(1,-1))\n",
    "pyplot.title('Model Prediction from Testset without Optimizer'.format(n_components))\n",
    "pyplot.show()"
   ]
  },
  {
   "cell_type": "markdown",
   "metadata": {},
   "source": [
    "#### Adam"
   ]
  },
  {
   "cell_type": "code",
   "execution_count": 11,
   "metadata": {},
   "outputs": [
    {
     "name": "stdout",
     "output_type": "stream",
     "text": [
      "Iteration No. 0  Cost= 323.6520273649225\n",
      "Iteration No. 20  Cost= 308.2985507449888\n",
      "Iteration No. 40  Cost= 307.7829688027519\n",
      "Iteration No. 60  Cost= 277.21053420891167\n",
      "Iteration No. 80  Cost= 278.27940058379045\n",
      "Iteration No. 100  Cost= 308.3279037939711\n",
      "Iteration No. 120  Cost= 308.2320595960131\n",
      "Iteration No. 140  Cost= 322.37065788534306\n",
      "Iteration No. 160  Cost= 307.9660584674751\n",
      "Iteration No. 180  Cost= 325.07285882744264\n",
      "Iteration No. 200  Cost= 312.95626304229063\n",
      "Iteration No. 220  Cost= 289.5844846225656\n",
      "Iteration No. 240  Cost= 306.42586352908563\n",
      "Iteration No. 260  Cost= 309.28351857977344\n",
      "Iteration No. 280  Cost= 297.0141488337683\n"
     ]
    }
   ],
   "source": [
    "parameter_vector_adam, L_cost_adam = LogisticRegression(traindata=traindata,\n",
    "                       max_iteration = max_iter,\n",
    "                       learningRate = 0.01,\n",
    "                       regularization = 0.01,\n",
    "                       mini_batch_size = 512,\n",
    "                       tolerance = 10e-6,\n",
    "                       optimizer = 'Adam'  #optimizer: 'SGDM' / 'Adam' / 'None'\n",
    "                      )\n",
    "\n"
   ]
  },
  {
   "cell_type": "code",
   "execution_count": 12,
   "metadata": {},
   "outputs": [
    {
     "name": "stdout",
     "output_type": "stream",
     "text": [
      "confusion matrix: (33, 1494, 0, 1462)\n",
      "f1 score: 0.6618379357175193\n"
     ]
    },
    {
     "data": {
      "image/png": "[encoded data removed]",
      "text/plain": [
       "<Figure size 432x288 with 1 Axes>"
      ]
     },
     "metadata": {
      "needs_background": "light"
     },
     "output_type": "display_data"
    }
   ],
   "source": [
    "# check parameter_vector * x[1] is positive (label 1) or negative (label 0), x[0] is the actual label\n",
    "rdd2 = testdata.map(lambda x: (np.dot(np.append(x[1], [1]), parameter_vector_adam), x[0])) \\\n",
    "    .map(lambda x: (np.where(x[0] >= 0, 1, 0), x[1])) \\\n",
    "\n",
    "# get confusion matrix result for each row: (TN, FP, FN, TP), 1 for true, 0 for false\n",
    "rdd3 = rdd2.map(lambda x: (\n",
    "np.where(x[0] == 0 and x[1] == 0, 1, 0), np.where(x[0] == 1 and x[1] == 0, 1, 0),  # confusion matrix\n",
    "np.where(x[0] == 0 and x[1] == 1, 1, 0), np.where(x[0] == 1 and x[1] == 1, 1, 0)))\n",
    "\n",
    "# calculate f1 score\n",
    "cmat = rdd3.reduce(lambda x, y: (x[0] + y[0], x[1] + y[1], x[2] + y[2], x[3] + y[3]))\n",
    "print(\"confusion matrix: \" + str(cmat))\n",
    "TN, FP, FN, TP = cmat[0], cmat[1], cmat[2], cmat[3]\n",
    "\n",
    "if TP + FP != 0 and TP + FN != 0:\n",
    "    precision = TP / (TP + FP)\n",
    "    recall = TP / (TP + FN)\n",
    "\n",
    "    f1score = 2 * precision * recall / (precision + recall)\n",
    "else:\n",
    "    f1score = 0\n",
    "\n",
    "print(\"f1 score: \" + str(f1score))\n",
    "\n",
    "# prediction on test set\n",
    "y_pred = rdd2.map(lambda x: int(x[0])).collect()\n",
    "X_test = np.array(testdata.map(lambda x: x[1]).collect())\n",
    "\n",
    "# scatter plot, data points annotated by different colors\n",
    "df = DataFrame(dict(x=X_test[:,0], y=X_test[:,1], label=y_pred))\n",
    "cluster_name = set(y)\n",
    "colors = dict(zip(cluster_name, cm.rainbow(np.linspace(0,1,len(cluster_name)))))\n",
    "fig, ax = pyplot.subplots()\n",
    "grouped = df.groupby('label')\n",
    "for key, group in grouped:\n",
    "    group.plot(ax=ax, kind='scatter', x='x', y='y', label=key, color=colors[key].reshape(1,-1))\n",
    "pyplot.title('Model Prediction from Testset Adam'.format(n_components))\n",
    "pyplot.show()"
   ]
  },
  {
   "cell_type": "markdown",
   "metadata": {},
   "source": [
    "#### SGDM"
   ]
  },
  {
   "cell_type": "code",
   "execution_count": null,
   "metadata": {},
   "outputs": [
    {
     "name": "stdout",
     "output_type": "stream",
     "text": [
      "Iteration No. 0  Cost= 323.6520273649225\n",
      "Iteration No. 20  Cost= 86.63297138387414\n",
      "Iteration No. 40  Cost= 39.51313660594664\n",
      "Iteration No. 60  Cost= 24.077093582998653\n",
      "Iteration No. 80  Cost= 17.179660880837275\n",
      "Iteration No. 100  Cost= 16.543771920995653\n",
      "Iteration No. 120  Cost= 13.76888259195989\n",
      "Iteration No. 140  Cost= 12.937829749197679\n"
     ]
    }
   ],
   "source": [
    "parameter_vector_sgdm, L_cost_sgdm = LogisticRegression(traindata=traindata,\n",
    "                       max_iteration = max_iter,\n",
    "                       learningRate = 0.01,\n",
    "                       regularization = 0.01,\n",
    "                       mini_batch_size = 512,\n",
    "                       tolerance = 10e-6,\n",
    "                       optimizer = 'SGDM'  #optimizer: 'SGDM' / 'Adam' / 'None'\n",
    "                      )"
   ]
  },
  {
   "cell_type": "code",
   "execution_count": null,
   "metadata": {},
   "outputs": [],
   "source": [
    "# check parameter_vector * x[1] is positive (label 1) or negative (label 0), x[0] is the actual label\n",
    "rdd2 = testdata.map(lambda x: (np.dot(np.append(x[1], [1]), parameter_vector_sgdm), x[0])) \\\n",
    "    .map(lambda x: (np.where(x[0] >= 0, 1, 0), x[1])) \\\n",
    "\n",
    "# get confusion matrix result for each row: (TN, FP, FN, TP), 1 for true, 0 for false\n",
    "rdd3 = rdd2.map(lambda x: (\n",
    "np.where(x[0] == 0 and x[1] == 0, 1, 0), np.where(x[0] == 1 and x[1] == 0, 1, 0),  # confusion matrix\n",
    "np.where(x[0] == 0 and x[1] == 1, 1, 0), np.where(x[0] == 1 and x[1] == 1, 1, 0)))\n",
    "\n",
    "# calculate f1 score\n",
    "cmat = rdd3.reduce(lambda x, y: (x[0] + y[0], x[1] + y[1], x[2] + y[2], x[3] + y[3]))\n",
    "print(\"confusion matrix: \" + str(cmat))\n",
    "TN, FP, FN, TP = cmat[0], cmat[1], cmat[2], cmat[3]\n",
    "\n",
    "if TP + FP != 0 and TP + FN != 0:\n",
    "    precision = TP / (TP + FP)\n",
    "    recall = TP / (TP + FN)\n",
    "\n",
    "    f1score = 2 * precision * recall / (precision + recall)\n",
    "else:\n",
    "    f1score = 0\n",
    "\n",
    "print(\"f1 score: \" + str(f1score))\n",
    "\n",
    "# prediction on test set\n",
    "y_pred = rdd2.map(lambda x: int(x[0])).collect()\n",
    "X_test = np.array(testdata.map(lambda x: x[1]).collect())\n",
    "\n",
    "# scatter plot, data points annotated by different colors\n",
    "df = DataFrame(dict(x=X_test[:,0], y=X_test[:,1], label=y_pred))\n",
    "cluster_name = set(y)\n",
    "colors = dict(zip(cluster_name, cm.rainbow(np.linspace(0,1,len(cluster_name)))))\n",
    "fig, ax = pyplot.subplots()\n",
    "grouped = df.groupby('label')\n",
    "for key, group in grouped:\n",
    "    group.plot(ax=ax, kind='scatter', x='x', y='y', label=key, color=colors[key].reshape(1,-1))\n",
    "pyplot.title('Model Prediction from Testset SGDM'.format(n_components))\n",
    "pyplot.show()"
   ]
  },
  {
   "cell_type": "markdown",
   "metadata": {},
   "source": [
    "### Optimizers Comparison"
   ]
  },
  {
   "cell_type": "code",
   "execution_count": null,
   "metadata": {},
   "outputs": [],
   "source": [
    "# Data\n",
    "df = pd.DataFrame({'iteration': range(1, max_iter+1), \n",
    "                 'cost_sgdm': L_cost_sgdm, \n",
    "                 'cost_adam': L_cost_adam, \n",
    "                 'cost_no': L_cost_no })\n",
    " \n",
    "# multiple line plots\n",
    "pyplot.plot( 'iteration', 'cost_sgdm', data=df, marker='', color='skyblue', linewidth=2)\n",
    "pyplot.plot( 'iteration', 'cost_adam', data=df, marker='', color='red', linewidth=2)\n",
    "pyplot.plot( 'iteration', 'cost_no', data=df, marker='', color='green', linewidth=2)\n",
    "# show legend\n",
    "pyplot.legend()\n",
    "pyplot.title('Cost Comparison among SGDM, Adam, no optimizer')\n",
    "# show graph\n",
    "pyplot.show()"
   ]
  },
  {
   "cell_type": "markdown",
   "metadata": {},
   "source": [
    "### F1 Score Comparison\n",
    "\n",
    "* SGDM: 0.901\n",
    "* Adam: 0.960\n",
    "* No: 0.901"
   ]
  },
  {
   "cell_type": "code",
   "execution_count": null,
   "metadata": {},
   "outputs": [],
   "source": []
  },
  {
   "cell_type": "code",
   "execution_count": null,
   "metadata": {},
   "outputs": [],
   "source": []
  }
 ],
 "metadata": {
  "kernelspec": {
   "display_name": "Python 3",
   "language": "python",
   "name": "python3"
  },
  "language_info": {
   "codemirror_mode": {
    "name": "ipython",
    "version": 3
   },
   "file_extension": ".py",
   "mimetype": "text/x-python",
   "name": "python",
   "nbconvert_exporter": "python",
   "pygments_lexer": "ipython3",
   "version": "3.8.6"
  }
 },
 "nbformat": 4,
 "nbformat_minor": 4
}
