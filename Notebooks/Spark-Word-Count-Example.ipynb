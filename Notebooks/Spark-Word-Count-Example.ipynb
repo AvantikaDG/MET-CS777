{
 "cells": [
  {
   "cell_type": "markdown",
   "metadata": {},
   "source": [
    "# Spark - Word Count Example in jupyter Notebook"
   ]
  },
  {
   "cell_type": "code",
   "execution_count": 2,
   "metadata": {},
   "outputs": [
    {
     "data": {
      "text/plain": [
       "'Project Gutenberg’s Alice’s Adventures in Wonderland, by Lewis Carroll'"
      ]
     },
     "execution_count": 2,
     "metadata": {},
     "output_type": "execute_result"
    }
   ],
   "source": [
    "# First we read all of the lines into an RDD. \n",
    "lines = sc.textFile(\"./data/Alices-Adventures-in-Wonderland-by-Lewis-Carroll.txt\")\n",
    "\n",
    "# First line is the header. \n",
    "lines.first()"
   ]
  },
  {
   "cell_type": "code",
   "execution_count": 4,
   "metadata": {},
   "outputs": [
    {
     "data": {
      "text/plain": [
       "['Project Gutenberg’s Alice’s Adventures in Wonderland, by Lewis Carroll',\n",
       " '',\n",
       " 'This eBook is for the use of anyone anywhere at no cost and with',\n",
       " 'almost no restrictions whatsoever.  You may copy it, give it away or']"
      ]
     },
     "execution_count": 4,
     "metadata": {},
     "output_type": "execute_result"
    }
   ],
   "source": [
    "lines.take(4)"
   ]
  },
  {
   "cell_type": "code",
   "execution_count": 5,
   "metadata": {},
   "outputs": [
    {
     "data": {
      "text/plain": [
       "['Project', 'Gutenberg’s']"
      ]
     },
     "execution_count": 5,
     "metadata": {},
     "output_type": "execute_result"
    }
   ],
   "source": [
    "words = lines.flatMap(lambda x: x.split(' '))\n",
    "\n",
    "# Take two of these to know what is inside them \n",
    "words.take(2)"
   ]
  },
  {
   "cell_type": "code",
   "execution_count": 6,
   "metadata": {},
   "outputs": [
    {
     "data": {
      "text/plain": [
       "[('Project', 1)]"
      ]
     },
     "execution_count": 6,
     "metadata": {},
     "output_type": "execute_result"
    }
   ],
   "source": [
    "wordsAsTuples = words.map(lambda x: (x, 1))\n",
    "\n",
    "wordsAsTuples.take(1)"
   ]
  },
  {
   "cell_type": "code",
   "execution_count": 7,
   "metadata": {},
   "outputs": [
    {
     "data": {
      "text/plain": [
       "[('Project', 78)]"
      ]
     },
     "execution_count": 7,
     "metadata": {},
     "output_type": "execute_result"
    }
   ],
   "source": [
    "counts=wordsAsTuples.reduceByKey(lambda x, y: x+y)\n",
    "\n",
    "counts.take(1)"
   ]
  },
  {
   "cell_type": "markdown",
   "metadata": {},
   "source": [
    "# Get top 20 Words sorted. "
   ]
  },
  {
   "cell_type": "code",
   "execution_count": 8,
   "metadata": {},
   "outputs": [
    {
     "data": {
      "text/plain": [
       "[('', 2244),\n",
       " ('the', 1664),\n",
       " ('and', 780),\n",
       " ('to', 773),\n",
       " ('a', 662),\n",
       " ('of', 596),\n",
       " ('she', 484),\n",
       " ('said', 416),\n",
       " ('in', 401),\n",
       " ('it', 356),\n",
       " ('was', 329),\n",
       " ('you', 301),\n",
       " ('I', 260),\n",
       " ('as', 246),\n",
       " ('that', 226),\n",
       " ('Alice', 221),\n",
       " ('with', 214),\n",
       " ('at', 211),\n",
       " ('her', 203),\n",
       " ('had', 175)]"
      ]
     },
     "execution_count": 8,
     "metadata": {},
     "output_type": "execute_result"
    }
   ],
   "source": [
    "counts.top(20, lambda x: x[1])"
   ]
  },
  {
   "cell_type": "code",
   "execution_count": 10,
   "metadata": {},
   "outputs": [
    {
     "data": {
      "text/plain": [
       "[('the', 1664),\n",
       " ('and', 780),\n",
       " ('to', 773),\n",
       " ('a', 662),\n",
       " ('of', 596),\n",
       " ('she', 484),\n",
       " ('said', 416),\n",
       " ('in', 401),\n",
       " ('it', 356),\n",
       " ('was', 329),\n",
       " ('you', 301),\n",
       " ('I', 260),\n",
       " ('as', 246),\n",
       " ('that', 226),\n",
       " ('Alice', 221),\n",
       " ('with', 214),\n",
       " ('at', 211),\n",
       " ('her', 203),\n",
       " ('had', 175),\n",
       " ('all', 168)]"
      ]
     },
     "execution_count": 10,
     "metadata": {},
     "output_type": "execute_result"
    }
   ],
   "source": [
    "counts.filter(lambda x: x[0]!='').top(20, lambda x: x[1])"
   ]
  },
  {
   "cell_type": "code",
   "execution_count": null,
   "metadata": {},
   "outputs": [],
   "source": []
  }
 ],
 "metadata": {
  "kernelspec": {
   "display_name": "Python 3",
   "language": "python",
   "name": "python3"
  },
  "language_info": {
   "codemirror_mode": {
    "name": "ipython",
    "version": 3
   },
   "file_extension": ".py",
   "mimetype": "text/x-python",
   "name": "python",
   "nbconvert_exporter": "python",
   "pygments_lexer": "ipython3",
   "version": "3.7.4"
  }
 },
 "nbformat": 4,
 "nbformat_minor": 2
}
