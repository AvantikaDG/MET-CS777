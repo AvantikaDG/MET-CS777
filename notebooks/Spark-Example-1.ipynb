{
 "cells": [
  {
   "cell_type": "markdown",
   "metadata": {},
   "source": [
    "# Spark Example\n",
    "\n",
    "This is a first tutorial on apache spark\n",
    "\n",
    "sc is here Spark Context object. You do not need to create the \"sc\" object, it is already loaded into memory. "
   ]
  },
  {
   "cell_type": "code",
   "execution_count": 1,
   "metadata": {},
   "outputs": [],
   "source": [
    "# We create here an example text data. \n",
    "a = [('What Will It Take for BU Commuters to Leave Their Cars for the MBTA? University\\\n",
    "      boosts T pass subsidies to cover half the cost, raises parking fees, all part of \\\n",
    "      broader strategy to build a greener BU')]"
   ]
  },
  {
   "cell_type": "code",
   "execution_count": 2,
   "metadata": {},
   "outputs": [
    {
     "name": "stdout",
     "output_type": "stream",
     "text": [
      "['What Will It Take for BU Commuters to Leave Their Cars for the MBTA? University      boosts T pass subsidies to cover half the cost, raises parking fees, all part of       broader strategy to build a greener BU']\n"
     ]
    }
   ],
   "source": [
    "print(a)"
   ]
  },
  {
   "cell_type": "code",
   "execution_count": 3,
   "metadata": {},
   "outputs": [],
   "source": [
    "rdd = sc.parallelize(a)\n",
    "# sorted(rdd.map(lambda x: (x, 1)).collect())"
   ]
  },
  {
   "cell_type": "code",
   "execution_count": 4,
   "metadata": {},
   "outputs": [
    {
     "name": "stdout",
     "output_type": "stream",
     "text": [
      "['What', 'Will', 'It', 'Take', 'for', 'BU', 'Commuters', 'to', 'Leave', 'Their', 'Cars', 'for', 'the', 'MBTA?', 'University', '', '', '', '', '', 'boosts', 'T', 'pass', 'subsidies', 'to', 'cover', 'half', 'the', 'cost,', 'raises', 'parking', 'fees,', 'all', 'part', 'of', '', '', '', '', '', '', 'broader', 'strategy', 'to', 'build', 'a', 'greener', 'BU']\n"
     ]
    }
   ],
   "source": [
    "# lines = sc.textFile(sys.argv[1], 1)\n",
    "words = rdd.flatMap(lambda x: x.split(' '))\n",
    "\n",
    "print(words.collect())"
   ]
  },
  {
   "cell_type": "code",
   "execution_count": 5,
   "metadata": {},
   "outputs": [
    {
     "name": "stdout",
     "output_type": "stream",
     "text": [
      "[('What', 1), ('Will', 1), ('It', 1), ('Cars', 1), ('', 11), ('of', 1), ('broader', 1), ('greener', 1), ('to', 3), ('Their', 1), ('the', 2), ('MBTA?', 1), ('T', 1), ('subsidies', 1), ('cost,', 1), ('parking', 1), ('fees,', 1), ('part', 1), ('build', 1), ('a', 1), ('University', 1), ('pass', 1), ('Take', 1), ('for', 2), ('BU', 2), ('Commuters', 1), ('Leave', 1), ('boosts', 1), ('cover', 1), ('half', 1), ('raises', 1), ('all', 1), ('strategy', 1)]\n"
     ]
    }
   ],
   "source": [
    "counts = rdd.flatMap(lambda x: x.split(' ')) \\\n",
    ".map(lambda x: (x, 1)) \\\n",
    ".reduceByKey(lambda x, y: x+y)\n",
    "\n",
    "print(counts.collect())"
   ]
  },
  {
   "cell_type": "markdown",
   "metadata": {},
   "source": [
    "# Sort by value \n",
    "Sort by value and get the highest number up. \n",
    "See for more detail\n",
    "\n",
    "https://spark.apache.org/docs/latest/api/python/pyspark.html\n",
    "\n",
    "sortBy function API definition \n",
    "\n",
    "sortBy(keyfunc, ascending=True, numPartitions=None)\n"
   ]
  },
  {
   "cell_type": "code",
   "execution_count": 6,
   "metadata": {},
   "outputs": [
    {
     "name": "stdout",
     "output_type": "stream",
     "text": [
      "[('', 11), ('to', 3), ('the', 2), ('for', 2), ('BU', 2), ('What', 1), ('Will', 1), ('It', 1), ('Cars', 1), ('of', 1), ('broader', 1), ('greener', 1), ('Their', 1), ('MBTA?', 1), ('T', 1), ('subsidies', 1), ('cost,', 1), ('parking', 1), ('fees,', 1), ('part', 1), ('build', 1), ('a', 1), ('University', 1), ('pass', 1), ('Take', 1), ('Commuters', 1), ('Leave', 1), ('boosts', 1), ('cover', 1), ('half', 1), ('raises', 1), ('all', 1), ('strategy', 1)]\n"
     ]
    }
   ],
   "source": [
    "sourtedCounts = counts.sortBy(lambda x: x[1], False)\n",
    "\n",
    "print(sourtedCounts.collect())"
   ]
  },
  {
   "cell_type": "markdown",
   "metadata": {},
   "source": [
    "# top() operation\n",
    "get the top 5 values \n"
   ]
  },
  {
   "cell_type": "code",
   "execution_count": 7,
   "metadata": {},
   "outputs": [
    {
     "name": "stdout",
     "output_type": "stream",
     "text": [
      "[('to', 3), ('the', 2), ('subsidies', 1), ('strategy', 1), ('raises', 1)]\n"
     ]
    }
   ],
   "source": [
    "print(counts.top(5))"
   ]
  },
  {
   "cell_type": "code",
   "execution_count": 8,
   "metadata": {},
   "outputs": [],
   "source": [
    "# We create here an example text data. \n",
    "a = [('What Will It Take for BU Commuters to Leave Their Cars for the MBTA? University\\\n",
    "      boosts T pass subsidies to cover half the cost, raises parking fees, all part of \\\n",
    "      broader strategy to build a greener BU')]\n",
    "rdd = sc.parallelize(a) \n",
    "counts = rdd.flatMap(lambda x: x.split(' ')).map(lambda x: (x, 1))"
   ]
  },
  {
   "cell_type": "code",
   "execution_count": null,
   "metadata": {},
   "outputs": [],
   "source": []
  }
 ],
 "metadata": {
  "kernelspec": {
   "display_name": "Python 3",
   "language": "python",
   "name": "python3"
  },
  "language_info": {
   "codemirror_mode": {
    "name": "ipython",
    "version": 3
   },
   "file_extension": ".py",
   "mimetype": "text/x-python",
   "name": "python",
   "nbconvert_exporter": "python",
   "pygments_lexer": "ipython3",
   "version": "3.7.0"
  }
 },
 "nbformat": 4,
 "nbformat_minor": 2
}
