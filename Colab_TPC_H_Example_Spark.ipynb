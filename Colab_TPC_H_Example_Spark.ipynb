{
  "nbformat": 4,
  "nbformat_minor": 0,
  "metadata": {
    "colab": {
      "name": "Colab-TPC-H-Example-Spark.ipynb",
      "provenance": [],
      "collapsed_sections": [],
      "include_colab_link": true
    },
    "kernelspec": {
      "name": "python3",
      "display_name": "Python 3"
    }
  },
  "cells": [
    {
      "cell_type": "markdown",
      "metadata": {
        "id": "view-in-github",
        "colab_type": "text"
      },
      "source": [
        "<a href=\"https://colab.research.google.com/github/kiat/MET-CS777/blob/master/Colab_TPC_H_Example_Spark.ipynb\" target=\"_parent\"><img src=\"https://colab.research.google.com/assets/colab-badge.svg\" alt=\"Open In Colab\"/></a>"
      ]
    },
    {
      "cell_type": "code",
      "metadata": {
        "id": "LmxLySb20jtX",
        "colab_type": "code",
        "colab": {}
      },
      "source": [
        "!apt-get install openjdk-8-jdk-headless -qq > /dev/null\n",
        "!wget -q http://www-eu.apache.org/dist/spark/spark-2.4.4/spark-2.4.4-bin-hadoop2.7.tgz\n",
        "!tar xf spark-2.4.4-bin-hadoop2.7.tgz\n",
        "!pip install -q findspark\n",
        "!rm -rf spark-2.4.4-bin-hadoop2.7.tgz"
      ],
      "execution_count": 0,
      "outputs": []
    },
    {
      "cell_type": "code",
      "metadata": {
        "id": "Nor9olN20p0M",
        "colab_type": "code",
        "colab": {}
      },
      "source": [
        "import os\n",
        "os.environ[\"JAVA_HOME\"] = \"/usr/lib/jvm/java-8-openjdk-amd64\"\n",
        "os.environ[\"SPARK_HOME\"] = \"/content/spark-2.4.4-bin-hadoop2.7\"\n",
        "\n",
        "import findspark\n",
        "findspark.init(\"spark-2.4.4-bin-hadoop2.7\")# SPARK_HOME\n",
        "\n",
        "from pyspark.sql import SparkSession\n",
        "from pyspark import SparkContext\n",
        "\n",
        "\n",
        "import sys\n",
        "from operator import add\n",
        "\n",
        "from pyspark import SparkContext\n",
        "from pyspark import SparkConf,SparkContext\n",
        "from pyspark.streaming import StreamingContext\n",
        "import sys\n",
        "import requests\n",
        "from operator import add\n",
        "\n",
        "from pyspark.sql.types import *\n",
        "from pyspark.sql import functions as func\n",
        "\n",
        "from pyspark.sql.functions import lit\n",
        "from pyspark.sql.functions import udf\n",
        "from pyspark.sql.functions import *\n",
        "from pyspark.sql.functions import array\n",
        "\n",
        "from pyspark.sql import SQLContext\n",
        "\n",
        "spark = SparkSession.builder.master(\"local[*]\").getOrCreate()\n",
        "sc = SparkContext.getOrCreate()\n",
        "\n",
        "# conf = SparkConf(appName=\"TPCH-Example\")\n",
        "# create spark context with the above configuration\n",
        "# sc = SparkContext(conf=conf)\n",
        "\n",
        "sqlContext = SQLContext(sc)\n"
      ],
      "execution_count": 0,
      "outputs": []
    },
    {
      "cell_type": "markdown",
      "metadata": {
        "id": "XL3CjM3406y4",
        "colab_type": "text"
      },
      "source": [
        ""
      ]
    },
    {
      "cell_type": "code",
      "metadata": {
        "id": "2bNmkjaMYk7r",
        "colab_type": "code",
        "outputId": "86a8c41c-c402-49b8-918f-62a4996bfc41",
        "colab": {
          "base_uri": "https://localhost:8080/",
          "height": 1000
        }
      },
      "source": [
        "! wget https://github.com/kiat/MET-CS777/raw/master/TPC-H-Example/tpch_tables_scale_0.1/customer.tbl\n",
        "! wget https://github.com/kiat/MET-CS777/raw/master/TPC-H-Example/tpch_tables_scale_0.1/lineitem.tbl\n",
        "! wget https://github.com/kiat/MET-CS777/raw/master/TPC-H-Example/tpch_tables_scale_0.1/nation.tbl\n",
        "! wget https://github.com/kiat/MET-CS777/raw/master/TPC-H-Example/tpch_tables_scale_0.1/orders.tbl\n",
        "! wget https://github.com/kiat/MET-CS777/raw/master/TPC-H-Example/tpch_tables_scale_0.1/region.tbl\n",
        "! wget https://github.com/kiat/MET-CS777/raw/master/TPC-H-Example/tpch_tables_scale_0.1/supplier.tbl\n",
        "! wget https://github.com/kiat/MET-CS777/raw/master/TPC-H-Example/tpch_tables_scale_0.1/part.tbl\n",
        "! wget https://github.com/kiat/MET-CS777/raw/master/TPC-H-Example/tpch_tables_scale_0.1/region.tbl\n",
        "! wget https://github.com/kiat/MET-CS777/raw/master/TPC-H-Example/tpch_tables_scale_0.1/partsupp.tbl"
      ],
      "execution_count": 18,
      "outputs": [
        {
          "output_type": "stream",
          "text": [
            "--2020-02-06 19:58:12--  https://github.com/kiat/MET-CS777/raw/master/TPC-H-Example/tpch_tables_scale_0.1/customer.tbl\n",
            "Resolving github.com (github.com)... 140.82.118.3\n",
            "Connecting to github.com (github.com)|140.82.118.3|:443... connected.\n",
            "HTTP request sent, awaiting response... 302 Found\n",
            "Location: https://raw.githubusercontent.com/kiat/MET-CS777/master/TPC-H-Example/tpch_tables_scale_0.1/customer.tbl [following]\n",
            "--2020-02-06 19:58:12--  https://raw.githubusercontent.com/kiat/MET-CS777/master/TPC-H-Example/tpch_tables_scale_0.1/customer.tbl\n",
            "Resolving raw.githubusercontent.com (raw.githubusercontent.com)... 151.101.0.133, 151.101.64.133, 151.101.128.133, ...\n",
            "Connecting to raw.githubusercontent.com (raw.githubusercontent.com)|151.101.0.133|:443... connected.\n",
            "HTTP request sent, awaiting response... 200 OK\n",
            "Length: 2426178 (2.3M) [text/plain]\n",
            "Saving to: ‘customer.tbl.3’\n",
            "\n",
            "\rcustomer.tbl.3        0%[                    ]       0  --.-KB/s               \rcustomer.tbl.3      100%[===================>]   2.31M  --.-KB/s    in 0.04s   \n",
            "\n",
            "2020-02-06 19:58:12 (55.3 MB/s) - ‘customer.tbl.3’ saved [2426178/2426178]\n",
            "\n",
            "--2020-02-06 19:58:13--  https://github.com/kiat/MET-CS777/raw/master/TPC-H-Example/tpch_tables_scale_0.1/lineitem.tbl\n",
            "Resolving github.com (github.com)... 140.82.118.3\n",
            "Connecting to github.com (github.com)|140.82.118.3|:443... connected.\n",
            "HTTP request sent, awaiting response... 302 Found\n",
            "Location: https://raw.githubusercontent.com/kiat/MET-CS777/master/TPC-H-Example/tpch_tables_scale_0.1/lineitem.tbl [following]\n",
            "--2020-02-06 19:58:13--  https://raw.githubusercontent.com/kiat/MET-CS777/master/TPC-H-Example/tpch_tables_scale_0.1/lineitem.tbl\n",
            "Resolving raw.githubusercontent.com (raw.githubusercontent.com)... 151.101.0.133, 151.101.64.133, 151.101.128.133, ...\n",
            "Connecting to raw.githubusercontent.com (raw.githubusercontent.com)|151.101.0.133|:443... connected.\n",
            "HTTP request sent, awaiting response... 200 OK\n",
            "Length: 74247152 (71M) [text/plain]\n",
            "Saving to: ‘lineitem.tbl.3’\n",
            "\n",
            "lineitem.tbl.3      100%[===================>]  70.81M   292MB/s    in 0.2s    \n",
            "\n",
            "2020-02-06 19:58:14 (292 MB/s) - ‘lineitem.tbl.3’ saved [74247152/74247152]\n",
            "\n",
            "--2020-02-06 19:58:14--  https://github.com/kiat/MET-CS777/raw/master/TPC-H-Example/tpch_tables_scale_0.1/nation.tbl\n",
            "Resolving github.com (github.com)... 140.82.118.3\n",
            "Connecting to github.com (github.com)|140.82.118.3|:443... connected.\n",
            "HTTP request sent, awaiting response... 302 Found\n",
            "Location: https://raw.githubusercontent.com/kiat/MET-CS777/master/TPC-H-Example/tpch_tables_scale_0.1/nation.tbl [following]\n",
            "--2020-02-06 19:58:15--  https://raw.githubusercontent.com/kiat/MET-CS777/master/TPC-H-Example/tpch_tables_scale_0.1/nation.tbl\n",
            "Resolving raw.githubusercontent.com (raw.githubusercontent.com)... 151.101.0.133, 151.101.64.133, 151.101.128.133, ...\n",
            "Connecting to raw.githubusercontent.com (raw.githubusercontent.com)|151.101.0.133|:443... connected.\n",
            "HTTP request sent, awaiting response... 200 OK\n",
            "Length: 2257 (2.2K) [text/plain]\n",
            "Saving to: ‘nation.tbl.3’\n",
            "\n",
            "nation.tbl.3        100%[===================>]   2.20K  --.-KB/s    in 0s      \n",
            "\n",
            "2020-02-06 19:58:15 (50.5 MB/s) - ‘nation.tbl.3’ saved [2257/2257]\n",
            "\n",
            "--2020-02-06 19:58:16--  https://github.com/kiat/MET-CS777/raw/master/TPC-H-Example/tpch_tables_scale_0.1/orders.tbl\n",
            "Resolving github.com (github.com)... 140.82.118.4\n",
            "Connecting to github.com (github.com)|140.82.118.4|:443... connected.\n",
            "HTTP request sent, awaiting response... 302 Found\n",
            "Location: https://raw.githubusercontent.com/kiat/MET-CS777/master/TPC-H-Example/tpch_tables_scale_0.1/orders.tbl [following]\n",
            "--2020-02-06 19:58:16--  https://raw.githubusercontent.com/kiat/MET-CS777/master/TPC-H-Example/tpch_tables_scale_0.1/orders.tbl\n",
            "Resolving raw.githubusercontent.com (raw.githubusercontent.com)... 151.101.0.133, 151.101.64.133, 151.101.128.133, ...\n",
            "Connecting to raw.githubusercontent.com (raw.githubusercontent.com)|151.101.0.133|:443... connected.\n",
            "HTTP request sent, awaiting response... 200 OK\n",
            "Length: 16893215 (16M) [text/plain]\n",
            "Saving to: ‘orders.tbl.3’\n",
            "\n",
            "orders.tbl.3        100%[===================>]  16.11M  72.3MB/s    in 0.2s    \n",
            "\n",
            "2020-02-06 19:58:16 (72.3 MB/s) - ‘orders.tbl.3’ saved [16893215/16893215]\n",
            "\n",
            "--2020-02-06 19:58:17--  https://github.com/kiat/MET-CS777/raw/master/TPC-H-Example/tpch_tables_scale_0.1/region.tbl\n",
            "Resolving github.com (github.com)... 140.82.118.3\n",
            "Connecting to github.com (github.com)|140.82.118.3|:443... connected.\n",
            "HTTP request sent, awaiting response... 302 Found\n",
            "Location: https://raw.githubusercontent.com/kiat/MET-CS777/master/TPC-H-Example/tpch_tables_scale_0.1/region.tbl [following]\n",
            "--2020-02-06 19:58:17--  https://raw.githubusercontent.com/kiat/MET-CS777/master/TPC-H-Example/tpch_tables_scale_0.1/region.tbl\n",
            "Resolving raw.githubusercontent.com (raw.githubusercontent.com)... 151.101.0.133, 151.101.64.133, 151.101.128.133, ...\n",
            "Connecting to raw.githubusercontent.com (raw.githubusercontent.com)|151.101.0.133|:443... connected.\n",
            "HTTP request sent, awaiting response... 200 OK\n",
            "Length: 412 [text/plain]\n",
            "Saving to: ‘region.tbl.4’\n",
            "\n",
            "region.tbl.4        100%[===================>]     412  --.-KB/s    in 0s      \n",
            "\n",
            "2020-02-06 19:58:17 (63.4 MB/s) - ‘region.tbl.4’ saved [412/412]\n",
            "\n",
            "--2020-02-06 19:58:18--  https://github.com/kiat/MET-CS777/raw/master/TPC-H-Example/tpch_tables_scale_0.1/supplier.tbl\n",
            "Resolving github.com (github.com)... 140.82.118.4\n",
            "Connecting to github.com (github.com)|140.82.118.4|:443... connected.\n",
            "HTTP request sent, awaiting response... 302 Found\n",
            "Location: https://raw.githubusercontent.com/kiat/MET-CS777/master/TPC-H-Example/tpch_tables_scale_0.1/supplier.tbl [following]\n",
            "--2020-02-06 19:58:18--  https://raw.githubusercontent.com/kiat/MET-CS777/master/TPC-H-Example/tpch_tables_scale_0.1/supplier.tbl\n",
            "Resolving raw.githubusercontent.com (raw.githubusercontent.com)... 151.101.0.133, 151.101.64.133, 151.101.128.133, ...\n",
            "Connecting to raw.githubusercontent.com (raw.githubusercontent.com)|151.101.0.133|:443... connected.\n",
            "HTTP request sent, awaiting response... 200 OK\n",
            "Length: 139679 (136K) [text/plain]\n",
            "Saving to: ‘supplier.tbl.3’\n",
            "\n",
            "supplier.tbl.3      100%[===================>] 136.41K  --.-KB/s    in 0.01s   \n",
            "\n",
            "2020-02-06 19:58:18 (11.5 MB/s) - ‘supplier.tbl.3’ saved [139679/139679]\n",
            "\n",
            "--2020-02-06 19:58:19--  https://github.com/kiat/MET-CS777/raw/master/TPC-H-Example/tpch_tables_scale_0.1/part.tbl\n",
            "Resolving github.com (github.com)... 140.82.118.3\n",
            "Connecting to github.com (github.com)|140.82.118.3|:443... connected.\n",
            "HTTP request sent, awaiting response... 302 Found\n",
            "Location: https://raw.githubusercontent.com/kiat/MET-CS777/master/TPC-H-Example/tpch_tables_scale_0.1/part.tbl [following]\n",
            "--2020-02-06 19:58:19--  https://raw.githubusercontent.com/kiat/MET-CS777/master/TPC-H-Example/tpch_tables_scale_0.1/part.tbl\n",
            "Resolving raw.githubusercontent.com (raw.githubusercontent.com)... 151.101.0.133, 151.101.64.133, 151.101.128.133, ...\n",
            "Connecting to raw.githubusercontent.com (raw.githubusercontent.com)|151.101.0.133|:443... connected.\n",
            "HTTP request sent, awaiting response... 200 OK\n",
            "Length: 2391154 (2.3M) [text/plain]\n",
            "Saving to: ‘part.tbl.2’\n",
            "\n",
            "part.tbl.2          100%[===================>]   2.28M  --.-KB/s    in 0.03s   \n",
            "\n",
            "2020-02-06 19:58:20 (73.6 MB/s) - ‘part.tbl.2’ saved [2391154/2391154]\n",
            "\n",
            "--2020-02-06 19:58:20--  https://github.com/kiat/MET-CS777/raw/master/TPC-H-Example/tpch_tables_scale_0.1/region.tbl\n",
            "Resolving github.com (github.com)... 140.82.118.4\n",
            "Connecting to github.com (github.com)|140.82.118.4|:443... connected.\n",
            "HTTP request sent, awaiting response... 302 Found\n",
            "Location: https://raw.githubusercontent.com/kiat/MET-CS777/master/TPC-H-Example/tpch_tables_scale_0.1/region.tbl [following]\n",
            "--2020-02-06 19:58:21--  https://raw.githubusercontent.com/kiat/MET-CS777/master/TPC-H-Example/tpch_tables_scale_0.1/region.tbl\n",
            "Resolving raw.githubusercontent.com (raw.githubusercontent.com)... 151.101.0.133, 151.101.64.133, 151.101.128.133, ...\n",
            "Connecting to raw.githubusercontent.com (raw.githubusercontent.com)|151.101.0.133|:443... connected.\n",
            "HTTP request sent, awaiting response... 200 OK\n",
            "Length: 412 [text/plain]\n",
            "Saving to: ‘region.tbl.5’\n",
            "\n",
            "region.tbl.5        100%[===================>]     412  --.-KB/s    in 0s      \n",
            "\n",
            "2020-02-06 19:58:21 (61.8 MB/s) - ‘region.tbl.5’ saved [412/412]\n",
            "\n",
            "--2020-02-06 19:58:21--  https://github.com/kiat/MET-CS777/raw/master/TPC-H-Example/tpch_tables_scale_0.1/partsupp.tbl\n",
            "Resolving github.com (github.com)... 140.82.118.3\n",
            "Connecting to github.com (github.com)|140.82.118.3|:443... connected.\n",
            "HTTP request sent, awaiting response... 302 Found\n",
            "Location: https://raw.githubusercontent.com/kiat/MET-CS777/master/TPC-H-Example/tpch_tables_scale_0.1/partsupp.tbl [following]\n",
            "--2020-02-06 19:58:22--  https://raw.githubusercontent.com/kiat/MET-CS777/master/TPC-H-Example/tpch_tables_scale_0.1/partsupp.tbl\n",
            "Resolving raw.githubusercontent.com (raw.githubusercontent.com)... 151.101.0.133, 151.101.64.133, 151.101.128.133, ...\n",
            "Connecting to raw.githubusercontent.com (raw.githubusercontent.com)|151.101.0.133|:443... connected.\n",
            "HTTP request sent, awaiting response... 200 OK\n",
            "Length: 11728237 (11M) [text/plain]\n",
            "Saving to: ‘partsupp.tbl’\n",
            "\n",
            "partsupp.tbl        100%[===================>]  11.18M  --.-KB/s    in 0.06s   \n",
            "\n",
            "2020-02-06 19:58:22 (178 MB/s) - ‘partsupp.tbl’ saved [11728237/11728237]\n",
            "\n"
          ],
          "name": "stdout"
        }
      ]
    },
    {
      "cell_type": "code",
      "metadata": {
        "id": "Q0qB4iql-uaK",
        "colab_type": "code",
        "outputId": "c54672de-3fd3-46cf-95ff-36f0be43682d",
        "colab": {
          "base_uri": "https://localhost:8080/",
          "height": 496
        }
      },
      "source": [
        "! ls -la \n"
      ],
      "execution_count": 16,
      "outputs": [
        {
          "output_type": "stream",
          "text": [
            "total 279280\n",
            "drwxr-xr-x  1 root root     4096 Feb  6 19:56 .\n",
            "drwxr-xr-x  1 root root     4096 Feb  6 19:45 ..\n",
            "drwxr-xr-x  1 root root     4096 Feb  5 18:37 .config\n",
            "-rw-r--r--  1 root root  2426178 Feb  6 19:51 customer.tbl\n",
            "-rw-r--r--  1 root root  2426178 Feb  6 19:55 customer.tbl.1\n",
            "-rw-r--r--  1 root root  2426178 Feb  6 19:56 customer.tbl.2\n",
            "-rw-r--r--  1 root root 74247152 Feb  6 19:51 lineitem.tbl\n",
            "-rw-r--r--  1 root root 74247152 Feb  6 19:55 lineitem.tbl.1\n",
            "-rw-r--r--  1 root root 74247152 Feb  6 19:56 lineitem.tbl.2\n",
            "-rw-r--r--  1 root root     2257 Feb  6 19:52 nation.tbl\n",
            "-rw-r--r--  1 root root     2257 Feb  6 19:55 nation.tbl.1\n",
            "-rw-r--r--  1 root root     2257 Feb  6 19:56 nation.tbl.2\n",
            "-rw-r--r--  1 root root 16893215 Feb  6 19:52 orders.tbl\n",
            "-rw-r--r--  1 root root 16893215 Feb  6 19:55 orders.tbl.1\n",
            "-rw-r--r--  1 root root 16893215 Feb  6 19:56 orders.tbl.2\n",
            "-rw-r--r--  1 root root  2391154 Feb  6 19:55 part.tbl\n",
            "-rw-r--r--  1 root root  2391154 Feb  6 19:56 part.tbl.1\n",
            "-rw-r--r--  1 root root      412 Feb  6 19:52 region.tbl\n",
            "-rw-r--r--  1 root root      412 Feb  6 19:55 region.tbl.1\n",
            "-rw-r--r--  1 root root      412 Feb  6 19:56 region.tbl.2\n",
            "-rw-r--r--  1 root root      412 Feb  6 19:56 region.tbl.3\n",
            "drwxr-xr-x  1 root root     4096 Feb  5 18:37 sample_data\n",
            "drwxr-xr-x 13 1000 1000     4096 Aug 27 21:30 spark-2.4.4-bin-hadoop2.7\n",
            "-rw-r--r--  1 root root   139679 Feb  6 19:52 supplier.tbl\n",
            "-rw-r--r--  1 root root   139679 Feb  6 19:55 supplier.tbl.1\n",
            "-rw-r--r--  1 root root   139679 Feb  6 19:56 supplier.tbl.2\n"
          ],
          "name": "stdout"
        }
      ]
    },
    {
      "cell_type": "code",
      "metadata": {
        "id": "h5VEYx0pAgy8",
        "colab_type": "code",
        "outputId": "532a12df-e5a7-441b-b9e9-e9153e6e26e2",
        "colab": {
          "base_uri": "https://localhost:8080/",
          "height": 478
        }
      },
      "source": [
        "lineitems = sqlContext.read.format('csv').options(header='true', inferSchema='true',  sep =\"|\").load(\"lineitem.tbl\")\n",
        "lineitems.show()"
      ],
      "execution_count": 7,
      "outputs": [
        {
          "output_type": "stream",
          "text": [
            "+--------+-------+-------+----------+--------+-------------+--------+----+----------+----------+-------------------+-------------------+-------------------+-----------------+--------+--------------------+\n",
            "|ORDERKEY|PARTKEY|SUPPKEY|LINENUMBER|QUANTITY|EXTENDEDPRICE|DISCOUNT| TAX|RETURNFLAG|LINESTATUS|           SHIPDATE|         COMMITDATE|        RECEIPTDATE|     SHIPINSTRUCT|SHIPMODE|             COMMENT|\n",
            "+--------+-------+-------+----------+--------+-------------+--------+----+----------+----------+-------------------+-------------------+-------------------+-----------------+--------+--------------------+\n",
            "|       1|  15519|    785|         1|      17|     24386.67|    0.04|0.02|         N|         O|1996-03-13 00:00:00|1996-02-12 00:00:00|1996-03-22 00:00:00|DELIVER IN PERSON|   TRUCK|egular courts abo...|\n",
            "|       1|   6731|    732|         2|      36|     58958.28|    0.09|0.06|         N|         O|1996-04-12 00:00:00|1996-02-28 00:00:00|1996-04-20 00:00:00| TAKE BACK RETURN|    MAIL|ly final dependen...|\n",
            "|       1|   6370|    371|         3|       8|     10210.96|     0.1|0.02|         N|         O|1996-01-29 00:00:00|1996-03-05 00:00:00|1996-01-31 00:00:00| TAKE BACK RETURN| REG AIR|riously. regular,...|\n",
            "|       1|    214|    465|         4|      28|     31197.88|    0.09|0.06|         N|         O|1996-04-21 00:00:00|1996-03-30 00:00:00|1996-05-16 00:00:00|             NONE|     AIR|lites. fluffily e...|\n",
            "|       1|   2403|    160|         5|      24|      31329.6|     0.1|0.04|         N|         O|1996-03-30 00:00:00|1996-03-14 00:00:00|1996-04-01 00:00:00|             NONE|     FOB| pending foxes. s...|\n",
            "|       1|   1564|     67|         6|      32|     46897.92|    0.07|0.02|         N|         O|1996-01-30 00:00:00|1996-02-07 00:00:00|1996-02-03 00:00:00|DELIVER IN PERSON|    MAIL|   arefully slyly ex|\n",
            "|       2|  10617|    138|         1|      38|     58049.18|     0.0|0.05|         N|         O|1997-01-28 00:00:00|1997-01-14 00:00:00|1997-02-02 00:00:00| TAKE BACK RETURN|    RAIL|ven requests. dep...|\n",
            "|       3|    430|    181|         1|      45|     59869.35|    0.06| 0.0|         R|         F|1994-02-02 00:00:00|1994-01-04 00:00:00|1994-02-23 00:00:00|             NONE|     AIR|ongside of the fu...|\n",
            "|       3|   1904|    658|         2|      49|      88489.1|     0.1| 0.0|         R|         F|1993-11-09 00:00:00|1993-12-20 00:00:00|1993-11-24 00:00:00| TAKE BACK RETURN|    RAIL| unusual accounts...|\n",
            "|       3|  12845|    370|         3|      27|     47461.68|    0.06|0.07|         A|         F|1994-01-16 00:00:00|1993-11-22 00:00:00|1994-01-23 00:00:00|DELIVER IN PERSON|    SHIP|    nal foxes wake. |\n",
            "|       3|   2938|    191|         4|       2|      3681.86|    0.01|0.06|         A|         F|1993-12-04 00:00:00|1994-01-07 00:00:00|1994-01-01 00:00:00|             NONE|   TRUCK|y. fluffily pendi...|\n",
            "|       3|  18310|    115|         5|      28|     34392.68|    0.04| 0.0|         R|         F|1993-12-14 00:00:00|1994-01-10 00:00:00|1994-01-01 00:00:00| TAKE BACK RETURN|     FOB|ages nag slyly pe...|\n",
            "|       3|   6215|    984|         6|      26|     29151.46|     0.1|0.02|         A|         F|1993-10-29 00:00:00|1993-12-18 00:00:00|1993-11-04 00:00:00| TAKE BACK RETURN|    RAIL|ges sleep after t...|\n",
            "|       4|   8804|    579|         1|      30|      51384.0|    0.03|0.08|         N|         O|1996-01-10 00:00:00|1995-12-14 00:00:00|1996-01-18 00:00:00|DELIVER IN PERSON| REG AIR|- quickly regular...|\n",
            "|       5|  10857|    858|         1|      15|     26517.75|    0.02|0.04|         R|         F|1994-10-31 00:00:00|1994-08-31 00:00:00|1994-11-20 00:00:00|             NONE|     AIR|  ts wake furiously |\n",
            "|       5|  12393|    394|         2|      26|     33940.14|    0.07|0.08|         R|         F|1994-10-16 00:00:00|1994-09-25 00:00:00|1994-10-19 00:00:00|             NONE|     FOB|sts use slyly qui...|\n",
            "|       5|   3754|      8|         3|      50|      82887.5|    0.08|0.03|         A|         F|1994-08-08 00:00:00|1994-10-13 00:00:00|1994-08-26 00:00:00|DELIVER IN PERSON|     AIR|eodolites. fluffi...|\n",
            "|       6|  13964|    228|         1|      37|     69484.52|    0.08|0.03|         A|         F|1992-04-27 00:00:00|1992-05-15 00:00:00|1992-05-02 00:00:00| TAKE BACK RETURN|   TRUCK|p furiously speci...|\n",
            "|       7|  18206|     11|         1|      12|      13490.4|    0.07|0.03|         N|         O|1996-05-07 00:00:00|1996-03-13 00:00:00|1996-06-03 00:00:00| TAKE BACK RETURN|     FOB|ss pinto beans wa...|\n",
            "|       7|  14525|    790|         2|       9|     12955.68|    0.08|0.08|         N|         O|1996-02-01 00:00:00|1996-03-02 00:00:00|1996-02-19 00:00:00| TAKE BACK RETURN|    SHIP|    es. instructions|\n",
            "+--------+-------+-------+----------+--------+-------------+--------+----+----------+----------+-------------------+-------------------+-------------------+-----------------+--------+--------------------+\n",
            "only showing top 20 rows\n",
            "\n"
          ],
          "name": "stdout"
        }
      ]
    },
    {
      "cell_type": "code",
      "metadata": {
        "id": "eHCWjR6rBDfE",
        "colab_type": "code",
        "colab": {}
      },
      "source": [
        "\n",
        "customer = sqlContext.read.format('csv').options(header='true', inferSchema='true',  sep =\"|\").load(\"customer.tbl\")\n",
        "orders = sqlContext.read.format('csv').options(header='true', inferSchema='true',  sep =\"|\").load(\"orders.tbl\")\n",
        "lineitems = sqlContext.read.format('csv').options(header='true', inferSchema='true',  sep =\"|\").load(\"lineitem.tbl\")\n",
        "part = sqlContext.read.format('csv').options(header='true', inferSchema='true',  sep =\"|\").load(\"part.tbl\")\n",
        "supplier = sqlContext.read.format('csv').options(header='true', inferSchema='true',  sep =\"|\").load(\"supplier.tbl\")\n",
        "partsupp = sqlContext.read.format('csv').options(header='true', inferSchema='true',  sep =\"|\").load(\"partsupp.tbl\")\n",
        "region = sqlContext.read.format('csv').options(header='true', inferSchema='true',  sep =\"|\").load(\"region.tbl\")\n",
        "nation = sqlContext.read.format('csv').options(header='true', inferSchema='true',  sep =\"|\").load(\"nation.tbl\")\n",
        "\n"
      ],
      "execution_count": 0,
      "outputs": []
    },
    {
      "cell_type": "code",
      "metadata": {
        "id": "LuUnPsPBELW1",
        "colab_type": "code",
        "colab": {
          "base_uri": "https://localhost:8080/",
          "height": 478
        },
        "outputId": "b21d950f-0dd7-46cf-dbf2-904b82fe8e30"
      },
      "source": [
        "nation.show()"
      ],
      "execution_count": 20,
      "outputs": [
        {
          "output_type": "stream",
          "text": [
            "+---------+----------+---------+--------------------+\n",
            "|NATIONKEY|      NAME|REGIONKEY|             COMMENT|\n",
            "+---------+----------+---------+--------------------+\n",
            "|        0|   ALGERIA|        0| haggle. carefull...|\n",
            "|        1| ARGENTINA|        1|al foxes promise ...|\n",
            "|        2|    BRAZIL|        1|y alongside of th...|\n",
            "|        3|    CANADA|        1|eas hang ironic, ...|\n",
            "|        4|     EGYPT|        4|y above the caref...|\n",
            "|        5|  ETHIOPIA|        0|ven packages wake...|\n",
            "|        6|    FRANCE|        3|refully final req...|\n",
            "|        7|   GERMANY|        3|l platelets. regu...|\n",
            "|        8|     INDIA|        2|ss excuses cajole...|\n",
            "|        9| INDONESIA|        2| slyly express as...|\n",
            "|       10|      IRAN|        4|efully alongside ...|\n",
            "|       11|      IRAQ|        4|nic deposits boos...|\n",
            "|       12|     JAPAN|        2|ously. final, exp...|\n",
            "|       13|    JORDAN|        4|ic deposits are b...|\n",
            "|       14|     KENYA|        0| pending excuses ...|\n",
            "|       15|   MOROCCO|        0|rns. blithely bol...|\n",
            "|       16|MOZAMBIQUE|        0|s. ironic, unusua...|\n",
            "|       17|      PERU|        1|platelets. blithe...|\n",
            "|       18|     CHINA|        2|c dependencies. f...|\n",
            "|       19|   ROMANIA|        3|ular asymptotes a...|\n",
            "+---------+----------+---------+--------------------+\n",
            "only showing top 20 rows\n",
            "\n"
          ],
          "name": "stdout"
        }
      ]
    },
    {
      "cell_type": "code",
      "metadata": {
        "id": "XS4aiaZUEABC",
        "colab_type": "code",
        "colab": {}
      },
      "source": [
        ""
      ],
      "execution_count": 0,
      "outputs": []
    }
  ]
}