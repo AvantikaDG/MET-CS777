{
  "nbformat": 4,
  "nbformat_minor": 0,
  "metadata": {
    "colab": {
      "name": "Colab-TPC-H-Example-Spark.ipynb",
      "provenance": [],
      "collapsed_sections": [],
      "include_colab_link": true
    },
    "kernelspec": {
      "name": "python3",
      "display_name": "Python 3"
    }
  },
  "cells": [
    {
      "cell_type": "markdown",
      "metadata": {
        "id": "view-in-github",
        "colab_type": "text"
      },
      "source": [
        "<a href=\"https://colab.research.google.com/github/kiat/MET-CS777/blob/master/Colab_TPC_H_Example_Spark.ipynb\" target=\"_parent\"><img src=\"https://colab.research.google.com/assets/colab-badge.svg\" alt=\"Open In Colab\"/></a>"
      ]
    },
    {
      "cell_type": "code",
      "metadata": {
        "id": "LmxLySb20jtX",
        "colab_type": "code",
        "colab": {}
      },
      "source": [
        "!apt-get install openjdk-8-jdk-headless -qq > /dev/null\n",
        "!wget -q http://www-eu.apache.org/dist/spark/spark-2.4.4/spark-2.4.4-bin-hadoop2.7.tgz\n",
        "!tar xf spark-2.4.4-bin-hadoop2.7.tgz\n",
        "!pip install -q findspark\n",
        "!rm -rf spark-2.4.4-bin-hadoop2.7.tgz"
      ],
      "execution_count": 0,
      "outputs": []
    },
    {
      "cell_type": "code",
      "metadata": {
        "id": "Nor9olN20p0M",
        "colab_type": "code",
        "colab": {}
      },
      "source": [
        "import os\n",
        "os.environ[\"JAVA_HOME\"] = \"/usr/lib/jvm/java-8-openjdk-amd64\"\n",
        "os.environ[\"SPARK_HOME\"] = \"/content/spark-2.4.4-bin-hadoop2.7\"\n",
        "\n",
        "import findspark\n",
        "findspark.init(\"spark-2.4.4-bin-hadoop2.7\")# SPARK_HOME\n",
        "\n",
        "from pyspark.sql import SparkSession\n",
        "from pyspark import SparkContext\n",
        "\n",
        "\n",
        "import sys\n",
        "from operator import add\n",
        "\n",
        "from pyspark import SparkContext\n",
        "from pyspark import SparkConf,SparkContext\n",
        "from pyspark.streaming import StreamingContext\n",
        "import sys\n",
        "import requests\n",
        "from operator import add\n",
        "\n",
        "from pyspark.sql.types import *\n",
        "from pyspark.sql import functions as func\n",
        "\n",
        "from pyspark.sql.functions import lit\n",
        "from pyspark.sql.functions import udf\n",
        "from pyspark.sql.functions import *\n",
        "from pyspark.sql.functions import array\n",
        "\n",
        "from pyspark.sql import SQLContext\n",
        "\n",
        "spark = SparkSession.builder.master(\"local[*]\").getOrCreate()\n",
        "sc = SparkContext.getOrCreate()\n",
        "\n",
        "# conf = SparkConf(appName=\"TPCH-Example\")\n",
        "# create spark context with the above configuration\n",
        "# sc = SparkContext(conf=conf)\n",
        "\n",
        "sqlContext = SQLContext(sc)\n"
      ],
      "execution_count": 0,
      "outputs": []
    },
    {
      "cell_type": "markdown",
      "metadata": {
        "id": "XL3CjM3406y4",
        "colab_type": "text"
      },
      "source": [
        ""
      ]
    },
    {
      "cell_type": "code",
      "metadata": {
        "id": "2bNmkjaMYk7r",
        "colab_type": "code",
        "outputId": "178be83c-1e6c-4144-c67e-df54ca56074d",
        "colab": {
          "base_uri": "https://localhost:8080/",
          "height": 1000
        }
      },
      "source": [
        "! wget https://github.com/kiat/MET-CS777/raw/master/TPC-H-Example/tpch_tables_scale_0.1/customer.tbl\n",
        "! wget https://github.com/kiat/MET-CS777/raw/master/TPC-H-Example/tpch_tables_scale_0.1/lineitem.tbl\n",
        "! wget https://github.com/kiat/MET-CS777/raw/master/TPC-H-Example/tpch_tables_scale_0.1/nation.tbl\n",
        "! wget https://github.com/kiat/MET-CS777/raw/master/TPC-H-Example/tpch_tables_scale_0.1/orders.tbl\n",
        "! wget https://github.com/kiat/MET-CS777/raw/master/TPC-H-Example/tpch_tables_scale_0.1/region.tbl\n",
        "! wget https://github.com/kiat/MET-CS777/raw/master/TPC-H-Example/tpch_tables_scale_0.1/supplier.tbl"
      ],
      "execution_count": 3,
      "outputs": [
        {
          "output_type": "stream",
          "text": [
            "--2020-02-06 19:38:16--  https://github.com/kiat/MET-CS777/raw/master/TPC-H-Example/tpch_tables_scale_0.1/customer.tbl\n",
            "Resolving github.com (github.com)... 140.82.118.4\n",
            "Connecting to github.com (github.com)|140.82.118.4|:443... connected.\n",
            "HTTP request sent, awaiting response... 302 Found\n",
            "Location: https://raw.githubusercontent.com/kiat/MET-CS777/master/TPC-H-Example/tpch_tables_scale_0.1/customer.tbl [following]\n",
            "--2020-02-06 19:38:16--  https://raw.githubusercontent.com/kiat/MET-CS777/master/TPC-H-Example/tpch_tables_scale_0.1/customer.tbl\n",
            "Resolving raw.githubusercontent.com (raw.githubusercontent.com)... 151.101.0.133, 151.101.64.133, 151.101.128.133, ...\n",
            "Connecting to raw.githubusercontent.com (raw.githubusercontent.com)|151.101.0.133|:443... connected.\n",
            "HTTP request sent, awaiting response... 200 OK\n",
            "Length: 2426178 (2.3M) [text/plain]\n",
            "Saving to: ‘customer.tbl’\n",
            "\n",
            "\rcustomer.tbl          0%[                    ]       0  --.-KB/s               \rcustomer.tbl        100%[===================>]   2.31M  --.-KB/s    in 0.1s    \n",
            "\n",
            "2020-02-06 19:38:17 (19.3 MB/s) - ‘customer.tbl’ saved [2426178/2426178]\n",
            "\n",
            "--2020-02-06 19:38:17--  https://github.com/kiat/MET-CS777/raw/master/TPC-H-Example/tpch_tables_scale_0.1/lineitem.tbl\n",
            "Resolving github.com (github.com)... 140.82.118.4\n",
            "Connecting to github.com (github.com)|140.82.118.4|:443... connected.\n",
            "HTTP request sent, awaiting response... 302 Found\n",
            "Location: https://raw.githubusercontent.com/kiat/MET-CS777/master/TPC-H-Example/tpch_tables_scale_0.1/lineitem.tbl [following]\n",
            "--2020-02-06 19:38:17--  https://raw.githubusercontent.com/kiat/MET-CS777/master/TPC-H-Example/tpch_tables_scale_0.1/lineitem.tbl\n",
            "Resolving raw.githubusercontent.com (raw.githubusercontent.com)... 151.101.0.133, 151.101.64.133, 151.101.128.133, ...\n",
            "Connecting to raw.githubusercontent.com (raw.githubusercontent.com)|151.101.0.133|:443... connected.\n",
            "HTTP request sent, awaiting response... 200 OK\n",
            "Length: 74247152 (71M) [text/plain]\n",
            "Saving to: ‘lineitem.tbl.1’\n",
            "\n",
            "lineitem.tbl.1      100%[===================>]  70.81M   224MB/s    in 0.3s    \n",
            "\n",
            "2020-02-06 19:38:18 (224 MB/s) - ‘lineitem.tbl.1’ saved [74247152/74247152]\n",
            "\n",
            "--2020-02-06 19:38:19--  https://github.com/kiat/MET-CS777/raw/master/TPC-H-Example/tpch_tables_scale_0.1/nation.tbl\n",
            "Resolving github.com (github.com)... 140.82.118.4\n",
            "Connecting to github.com (github.com)|140.82.118.4|:443... connected.\n",
            "HTTP request sent, awaiting response... 302 Found\n",
            "Location: https://raw.githubusercontent.com/kiat/MET-CS777/master/TPC-H-Example/tpch_tables_scale_0.1/nation.tbl [following]\n",
            "--2020-02-06 19:38:19--  https://raw.githubusercontent.com/kiat/MET-CS777/master/TPC-H-Example/tpch_tables_scale_0.1/nation.tbl\n",
            "Resolving raw.githubusercontent.com (raw.githubusercontent.com)... 151.101.0.133, 151.101.64.133, 151.101.128.133, ...\n",
            "Connecting to raw.githubusercontent.com (raw.githubusercontent.com)|151.101.0.133|:443... connected.\n",
            "HTTP request sent, awaiting response... 200 OK\n",
            "Length: 2257 (2.2K) [text/plain]\n",
            "Saving to: ‘nation.tbl’\n",
            "\n",
            "nation.tbl          100%[===================>]   2.20K  --.-KB/s    in 0s      \n",
            "\n",
            "2020-02-06 19:38:19 (44.3 MB/s) - ‘nation.tbl’ saved [2257/2257]\n",
            "\n",
            "--2020-02-06 19:38:20--  https://github.com/kiat/MET-CS777/raw/master/TPC-H-Example/tpch_tables_scale_0.1/orders.tbl\n",
            "Resolving github.com (github.com)... 140.82.118.4\n",
            "Connecting to github.com (github.com)|140.82.118.4|:443... connected.\n",
            "HTTP request sent, awaiting response... 302 Found\n",
            "Location: https://raw.githubusercontent.com/kiat/MET-CS777/master/TPC-H-Example/tpch_tables_scale_0.1/orders.tbl [following]\n",
            "--2020-02-06 19:38:20--  https://raw.githubusercontent.com/kiat/MET-CS777/master/TPC-H-Example/tpch_tables_scale_0.1/orders.tbl\n",
            "Resolving raw.githubusercontent.com (raw.githubusercontent.com)... 151.101.0.133, 151.101.64.133, 151.101.128.133, ...\n",
            "Connecting to raw.githubusercontent.com (raw.githubusercontent.com)|151.101.0.133|:443... connected.\n",
            "HTTP request sent, awaiting response... 200 OK\n",
            "Length: 16893215 (16M) [text/plain]\n",
            "Saving to: ‘orders.tbl’\n",
            "\n",
            "orders.tbl          100%[===================>]  16.11M   106MB/s    in 0.2s    \n",
            "\n",
            "2020-02-06 19:38:21 (106 MB/s) - ‘orders.tbl’ saved [16893215/16893215]\n",
            "\n",
            "--2020-02-06 19:38:22--  https://github.com/kiat/MET-CS777/raw/master/TPC-H-Example/tpch_tables_scale_0.1/region.tbl\n",
            "Resolving github.com (github.com)... 140.82.118.4\n",
            "Connecting to github.com (github.com)|140.82.118.4|:443... connected.\n",
            "HTTP request sent, awaiting response... 302 Found\n",
            "Location: https://raw.githubusercontent.com/kiat/MET-CS777/master/TPC-H-Example/tpch_tables_scale_0.1/region.tbl [following]\n",
            "--2020-02-06 19:38:22--  https://raw.githubusercontent.com/kiat/MET-CS777/master/TPC-H-Example/tpch_tables_scale_0.1/region.tbl\n",
            "Resolving raw.githubusercontent.com (raw.githubusercontent.com)... 151.101.0.133, 151.101.64.133, 151.101.128.133, ...\n",
            "Connecting to raw.githubusercontent.com (raw.githubusercontent.com)|151.101.0.133|:443... connected.\n",
            "HTTP request sent, awaiting response... 200 OK\n",
            "Length: 412 [text/plain]\n",
            "Saving to: ‘region.tbl’\n",
            "\n",
            "region.tbl          100%[===================>]     412  --.-KB/s    in 0s      \n",
            "\n",
            "2020-02-06 19:38:22 (76.7 MB/s) - ‘region.tbl’ saved [412/412]\n",
            "\n",
            "--2020-02-06 19:38:23--  https://github.com/kiat/MET-CS777/raw/master/TPC-H-Example/tpch_tables_scale_0.1/supplier.tbl\n",
            "Resolving github.com (github.com)... 140.82.118.4\n",
            "Connecting to github.com (github.com)|140.82.118.4|:443... connected.\n",
            "HTTP request sent, awaiting response... 302 Found\n",
            "Location: https://raw.githubusercontent.com/kiat/MET-CS777/master/TPC-H-Example/tpch_tables_scale_0.1/supplier.tbl [following]\n",
            "--2020-02-06 19:38:23--  https://raw.githubusercontent.com/kiat/MET-CS777/master/TPC-H-Example/tpch_tables_scale_0.1/supplier.tbl\n",
            "Resolving raw.githubusercontent.com (raw.githubusercontent.com)... 151.101.0.133, 151.101.64.133, 151.101.128.133, ...\n",
            "Connecting to raw.githubusercontent.com (raw.githubusercontent.com)|151.101.0.133|:443... connected.\n",
            "HTTP request sent, awaiting response... 200 OK\n",
            "Length: 139679 (136K) [text/plain]\n",
            "Saving to: ‘supplier.tbl’\n",
            "\n",
            "supplier.tbl        100%[===================>] 136.41K  --.-KB/s    in 0.01s   \n",
            "\n",
            "2020-02-06 19:38:23 (11.6 MB/s) - ‘supplier.tbl’ saved [139679/139679]\n",
            "\n"
          ],
          "name": "stdout"
        }
      ]
    },
    {
      "cell_type": "code",
      "metadata": {
        "id": "Q0qB4iql-uaK",
        "colab_type": "code",
        "colab": {
          "base_uri": "https://localhost:8080/",
          "height": 230
        },
        "outputId": "bfa3ce43-c507-4518-e6fb-a6487a0f70dd"
      },
      "source": [
        "! ls -la \n"
      ],
      "execution_count": 4,
      "outputs": [
        {
          "output_type": "stream",
          "text": [
            "total 164052\n",
            "drwxr-xr-x 1 root root     4096 Feb  6 19:38 .\n",
            "drwxr-xr-x 1 root root     4096 Feb  6 19:34 ..\n",
            "drwxr-xr-x 1 root root     4096 Feb  5 18:37 .config\n",
            "-rw-r--r-- 1 root root  2426178 Feb  6 19:38 customer.tbl\n",
            "-rw-r--r-- 1 root root 74247152 Feb  6 19:34 lineitem.tbl\n",
            "-rw-r--r-- 1 root root 74247152 Feb  6 19:38 lineitem.tbl.1\n",
            "-rw-r--r-- 1 root root     2257 Feb  6 19:38 nation.tbl\n",
            "-rw-r--r-- 1 root root 16893215 Feb  6 19:38 orders.tbl\n",
            "-rw-r--r-- 1 root root      412 Feb  6 19:38 region.tbl\n",
            "drwxr-xr-x 1 root root     4096 Feb  5 18:37 sample_data\n",
            "-rw-r--r-- 1 root root   139679 Feb  6 19:38 supplier.tbl\n"
          ],
          "name": "stdout"
        }
      ]
    },
    {
      "cell_type": "code",
      "metadata": {
        "id": "h5VEYx0pAgy8",
        "colab_type": "code",
        "colab": {
          "base_uri": "https://localhost:8080/",
          "height": 478
        },
        "outputId": "5a285b5e-28b4-48aa-9c6c-3e40db20aeb5"
      },
      "source": [
        "lineitems = sqlContext.read.format('csv').options(header='true', inferSchema='true',  sep =\"|\").load(\"lineitem.tbl\")\n",
        "lineitems.show()"
      ],
      "execution_count": 14,
      "outputs": [
        {
          "output_type": "stream",
          "text": [
            "+--------+-------+-------+----------+--------+-------------+--------+----+----------+----------+-------------------+-------------------+-------------------+-----------------+--------+--------------------+\n",
            "|ORDERKEY|PARTKEY|SUPPKEY|LINENUMBER|QUANTITY|EXTENDEDPRICE|DISCOUNT| TAX|RETURNFLAG|LINESTATUS|           SHIPDATE|         COMMITDATE|        RECEIPTDATE|     SHIPINSTRUCT|SHIPMODE|             COMMENT|\n",
            "+--------+-------+-------+----------+--------+-------------+--------+----+----------+----------+-------------------+-------------------+-------------------+-----------------+--------+--------------------+\n",
            "|       1|  15519|    785|         1|      17|     24386.67|    0.04|0.02|         N|         O|1996-03-13 00:00:00|1996-02-12 00:00:00|1996-03-22 00:00:00|DELIVER IN PERSON|   TRUCK|egular courts abo...|\n",
            "|       1|   6731|    732|         2|      36|     58958.28|    0.09|0.06|         N|         O|1996-04-12 00:00:00|1996-02-28 00:00:00|1996-04-20 00:00:00| TAKE BACK RETURN|    MAIL|ly final dependen...|\n",
            "|       1|   6370|    371|         3|       8|     10210.96|     0.1|0.02|         N|         O|1996-01-29 00:00:00|1996-03-05 00:00:00|1996-01-31 00:00:00| TAKE BACK RETURN| REG AIR|riously. regular,...|\n",
            "|       1|    214|    465|         4|      28|     31197.88|    0.09|0.06|         N|         O|1996-04-21 00:00:00|1996-03-30 00:00:00|1996-05-16 00:00:00|             NONE|     AIR|lites. fluffily e...|\n",
            "|       1|   2403|    160|         5|      24|      31329.6|     0.1|0.04|         N|         O|1996-03-30 00:00:00|1996-03-14 00:00:00|1996-04-01 00:00:00|             NONE|     FOB| pending foxes. s...|\n",
            "|       1|   1564|     67|         6|      32|     46897.92|    0.07|0.02|         N|         O|1996-01-30 00:00:00|1996-02-07 00:00:00|1996-02-03 00:00:00|DELIVER IN PERSON|    MAIL|   arefully slyly ex|\n",
            "|       2|  10617|    138|         1|      38|     58049.18|     0.0|0.05|         N|         O|1997-01-28 00:00:00|1997-01-14 00:00:00|1997-02-02 00:00:00| TAKE BACK RETURN|    RAIL|ven requests. dep...|\n",
            "|       3|    430|    181|         1|      45|     59869.35|    0.06| 0.0|         R|         F|1994-02-02 00:00:00|1994-01-04 00:00:00|1994-02-23 00:00:00|             NONE|     AIR|ongside of the fu...|\n",
            "|       3|   1904|    658|         2|      49|      88489.1|     0.1| 0.0|         R|         F|1993-11-09 00:00:00|1993-12-20 00:00:00|1993-11-24 00:00:00| TAKE BACK RETURN|    RAIL| unusual accounts...|\n",
            "|       3|  12845|    370|         3|      27|     47461.68|    0.06|0.07|         A|         F|1994-01-16 00:00:00|1993-11-22 00:00:00|1994-01-23 00:00:00|DELIVER IN PERSON|    SHIP|    nal foxes wake. |\n",
            "|       3|   2938|    191|         4|       2|      3681.86|    0.01|0.06|         A|         F|1993-12-04 00:00:00|1994-01-07 00:00:00|1994-01-01 00:00:00|             NONE|   TRUCK|y. fluffily pendi...|\n",
            "|       3|  18310|    115|         5|      28|     34392.68|    0.04| 0.0|         R|         F|1993-12-14 00:00:00|1994-01-10 00:00:00|1994-01-01 00:00:00| TAKE BACK RETURN|     FOB|ages nag slyly pe...|\n",
            "|       3|   6215|    984|         6|      26|     29151.46|     0.1|0.02|         A|         F|1993-10-29 00:00:00|1993-12-18 00:00:00|1993-11-04 00:00:00| TAKE BACK RETURN|    RAIL|ges sleep after t...|\n",
            "|       4|   8804|    579|         1|      30|      51384.0|    0.03|0.08|         N|         O|1996-01-10 00:00:00|1995-12-14 00:00:00|1996-01-18 00:00:00|DELIVER IN PERSON| REG AIR|- quickly regular...|\n",
            "|       5|  10857|    858|         1|      15|     26517.75|    0.02|0.04|         R|         F|1994-10-31 00:00:00|1994-08-31 00:00:00|1994-11-20 00:00:00|             NONE|     AIR|  ts wake furiously |\n",
            "|       5|  12393|    394|         2|      26|     33940.14|    0.07|0.08|         R|         F|1994-10-16 00:00:00|1994-09-25 00:00:00|1994-10-19 00:00:00|             NONE|     FOB|sts use slyly qui...|\n",
            "|       5|   3754|      8|         3|      50|      82887.5|    0.08|0.03|         A|         F|1994-08-08 00:00:00|1994-10-13 00:00:00|1994-08-26 00:00:00|DELIVER IN PERSON|     AIR|eodolites. fluffi...|\n",
            "|       6|  13964|    228|         1|      37|     69484.52|    0.08|0.03|         A|         F|1992-04-27 00:00:00|1992-05-15 00:00:00|1992-05-02 00:00:00| TAKE BACK RETURN|   TRUCK|p furiously speci...|\n",
            "|       7|  18206|     11|         1|      12|      13490.4|    0.07|0.03|         N|         O|1996-05-07 00:00:00|1996-03-13 00:00:00|1996-06-03 00:00:00| TAKE BACK RETURN|     FOB|ss pinto beans wa...|\n",
            "|       7|  14525|    790|         2|       9|     12955.68|    0.08|0.08|         N|         O|1996-02-01 00:00:00|1996-03-02 00:00:00|1996-02-19 00:00:00| TAKE BACK RETURN|    SHIP|    es. instructions|\n",
            "+--------+-------+-------+----------+--------+-------------+--------+----+----------+----------+-------------------+-------------------+-------------------+-----------------+--------+--------------------+\n",
            "only showing top 20 rows\n",
            "\n"
          ],
          "name": "stdout"
        }
      ]
    },
    {
      "cell_type": "code",
      "metadata": {
        "id": "eHCWjR6rBDfE",
        "colab_type": "code",
        "colab": {}
      },
      "source": [
        "\n",
        "customer = sqlContext.read.format('csv').options(header='true', inferSchema='true',  sep =\"|\").load(path+\"customer.tbl\")\n",
        "orders = sqlContext.read.format('csv').options(header='true', inferSchema='true',  sep =\"|\").load(path+\"orders.tbl\")\n",
        "lineitems = sqlContext.read.format('csv').options(header='true', inferSchema='true',  sep =\"|\").load(path+\"lineitem.tbl\")\n",
        "part = sqlContext.read.format('csv').options(header='true', inferSchema='true',  sep =\"|\").load(path+\"part.tbl\")\n",
        "supplier = sqlContext.read.format('csv').options(header='true', inferSchema='true',  sep =\"|\").load(path+\"supplier.tbl\")\n",
        "partsupp = sqlContext.read.format('csv').options(header='true', inferSchema='true',  sep =\"|\").load(path+\"partsupp.tbl\")\n",
        "region = sqlContext.read.format('csv').options(header='true', inferSchema='true',  sep =\"|\").load(path+\"region.tbl\")\n",
        "nation = sqlContext.read.format('csv').options(header='true', inferSchema='true',  sep =\"|\").load(path+\"nation.tbl\")\n",
        "\n"
      ],
      "execution_count": 0,
      "outputs": []
    }
  ]
}